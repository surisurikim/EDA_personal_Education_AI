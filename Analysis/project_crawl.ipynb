{
 "cells": [
  {
   "cell_type": "markdown",
   "metadata": {
    "id": "RU1cPoDgFuv-",
    "jp-MarkdownHeadingCollapsed": true
   },
   "source": [
    "# 1. 나라장터 데이터\n",
    "\n",
    "https://www.g2b.go.kr:8101/ep/tbid/tbidList.do?searchType=1&bidSearchType=1&taskClCds=5&bidNm=%B5%F0%C1%F6%C5%D0&searchDtType=1&fromBidDt=2020%2F04%2F20&toBidDt=2020%2F10%2F19&fromOpenBidDt=&toOpenBidDt=&radOrgan=2&instNm=%B1%B3%C0%B0&instSearchRangeType=&refNo=&area=&areaNm=&strArea=&orgArea=&industry=&industryCd=&upBudget=&downBudget=&budgetCompare=&detailPrdnmNo=&detailPrdnm=&procmntReqNo=&intbidYn=&regYn=Y&recordCountPerPage=100\n",
    "\n",
    "Google Spreadsheet으로 크롤링 후 csv 파일로 저장"
   ]
  },
  {
   "cell_type": "code",
   "execution_count": 2,
   "metadata": {
    "id": "zuDB13GsJ7v4"
   },
   "outputs": [],
   "source": [
    "import pandas as pd\n",
    "\n",
    "df = pd.read_csv(\"crawled_data.csv\")"
   ]
  },
  {
   "cell_type": "code",
   "execution_count": 3,
   "metadata": {
    "colab": {
     "base_uri": "https://localhost:8080/"
    },
    "id": "6c7ik-UwJ72k",
    "outputId": "f992074f-c607-4b0a-8831-3670c2d89c60"
   },
   "outputs": [
    {
     "name": "stdout",
     "output_type": "stream",
     "text": [
      "<class 'pandas.core.frame.DataFrame'>\n",
      "RangeIndex: 376 entries, 0 to 375\n",
      "Data columns (total 4 columns):\n",
      " #   Column         Non-Null Count  Dtype \n",
      "---  ------         --------------  ----- \n",
      " 0   공고번호-차수        376 non-null    object\n",
      " 1   공고명            376 non-null    object\n",
      " 2   수요기관           376 non-null    object\n",
      " 3   입력일시\n",
      "(입찰마감일시)  376 non-null    object\n",
      "dtypes: object(4)\n",
      "memory usage: 11.9+ KB\n"
     ]
    }
   ],
   "source": [
    "df.info()"
   ]
  },
  {
   "cell_type": "code",
   "execution_count": 4,
   "metadata": {
    "id": "ha-sI21wLsa6"
   },
   "outputs": [
    {
     "data": {
      "text/html": [
       "<div>\n",
       "<style scoped>\n",
       "    .dataframe tbody tr th:only-of-type {\n",
       "        vertical-align: middle;\n",
       "    }\n",
       "\n",
       "    .dataframe tbody tr th {\n",
       "        vertical-align: top;\n",
       "    }\n",
       "\n",
       "    .dataframe thead th {\n",
       "        text-align: right;\n",
       "    }\n",
       "</style>\n",
       "<table border=\"1\" class=\"dataframe\">\n",
       "  <thead>\n",
       "    <tr style=\"text-align: right;\">\n",
       "      <th></th>\n",
       "      <th>공고번호-차수</th>\n",
       "      <th>공고명</th>\n",
       "      <th>수요기관</th>\n",
       "      <th>입력일시\\n(입찰마감일시)</th>\n",
       "    </tr>\n",
       "  </thead>\n",
       "  <tbody>\n",
       "    <tr>\n",
       "      <th>0</th>\n",
       "      <td>20240432327-00</td>\n",
       "      <td>2024년 AI디지털교과서(코스웨어) 직무연수 위탁 운영 용역 공고</td>\n",
       "      <td>인천광역시교육청 인천광역시교육청교육과학정보원</td>\n",
       "      <td>2024/04/19 14:55\\n(2024/04/29 10:00)</td>\n",
       "    </tr>\n",
       "    <tr>\n",
       "      <th>1</th>\n",
       "      <td>20240421364-02</td>\n",
       "      <td>APEC 디지털 교육 정책 포럼 행사 대행</td>\n",
       "      <td>(사)에이펙국제교육협력원</td>\n",
       "      <td>2024/04/17 17:44\\n(-)</td>\n",
       "    </tr>\n",
       "    <tr>\n",
       "      <th>2</th>\n",
       "      <td>20240427845-00</td>\n",
       "      <td>2024년 디지털 기반 수업혁신 교원역량강화 직무연수 위탁 운영</td>\n",
       "      <td>강원특별자치도교육청 강원특별자치도교육청교육연수원</td>\n",
       "      <td>2024/04/17 15:44\\n(2024/04/29 15:00)</td>\n",
       "    </tr>\n",
       "    <tr>\n",
       "      <th>3</th>\n",
       "      <td>20240427288-00</td>\n",
       "      <td>2024년도 이러닝 콘텐츠 개발(디지털 신기술 1차)</td>\n",
       "      <td>한국기술교육대학교</td>\n",
       "      <td>2024/04/17 14:31\\n(2024/05/28 10:00)</td>\n",
       "    </tr>\n",
       "    <tr>\n",
       "      <th>4</th>\n",
       "      <td>20240427759-00</td>\n",
       "      <td>2024년도 이러닝 콘텐츠 개발(디지털 신기술 2차)</td>\n",
       "      <td>한국기술교육대학교</td>\n",
       "      <td>2024/04/17 14:30\\n(2024/05/28 10:00)</td>\n",
       "    </tr>\n",
       "    <tr>\n",
       "      <th>...</th>\n",
       "      <td>...</td>\n",
       "      <td>...</td>\n",
       "      <td>...</td>\n",
       "      <td>...</td>\n",
       "    </tr>\n",
       "    <tr>\n",
       "      <th>371</th>\n",
       "      <td>20200534133-00</td>\n",
       "      <td>중학교 사회·과학 디지털교과서 연계 교과융합형·심화형 실감형콘텐츠 개발</td>\n",
       "      <td>한국교육학술정보원</td>\n",
       "      <td>2020/06/01 16:01\\n(2020/06/16 10:00)</td>\n",
       "    </tr>\n",
       "    <tr>\n",
       "      <th>372</th>\n",
       "      <td>20200533118-00</td>\n",
       "      <td>2020년 교육부 디지털 정책홍보 활성화 사업 계약</td>\n",
       "      <td>교육부</td>\n",
       "      <td>2020/05/26 17:56\\n(2020/05/27 14:00)</td>\n",
       "    </tr>\n",
       "    <tr>\n",
       "      <th>373</th>\n",
       "      <td>20200526444-00</td>\n",
       "      <td>군자디지털과학고 교사동(1,3,4동) 내진성능평가 용역</td>\n",
       "      <td>경기도교육청 경기도시흥교육지원청</td>\n",
       "      <td>2020/05/21 14:27\\n(2020/05/29 10:00)</td>\n",
       "    </tr>\n",
       "    <tr>\n",
       "      <th>374</th>\n",
       "      <td>20200519514-00</td>\n",
       "      <td>2020년 방송중·고 디지털 학습 콘텐츠 개발 및 유지관리 사업</td>\n",
       "      <td>한국교육개발원</td>\n",
       "      <td>2020/05/18 17:10\\n(2020/06/09 14:00)</td>\n",
       "    </tr>\n",
       "    <tr>\n",
       "      <th>375</th>\n",
       "      <td>20200516075-00</td>\n",
       "      <td>2020년 중요기록물 디지털화 사업 용역</td>\n",
       "      <td>인천광역시교육청</td>\n",
       "      <td>2020/05/14 17:01\\n(2020/06/10 10:00)</td>\n",
       "    </tr>\n",
       "  </tbody>\n",
       "</table>\n",
       "<p>376 rows × 4 columns</p>\n",
       "</div>"
      ],
      "text/plain": [
       "            공고번호-차수                                      공고명  \\\n",
       "0    20240432327-00    2024년 AI디지털교과서(코스웨어) 직무연수 위탁 운영 용역 공고   \n",
       "1    20240421364-02                  APEC 디지털 교육 정책 포럼 행사 대행   \n",
       "2    20240427845-00      2024년 디지털 기반 수업혁신 교원역량강화 직무연수 위탁 운영   \n",
       "3    20240427288-00            2024년도 이러닝 콘텐츠 개발(디지털 신기술 1차)   \n",
       "4    20240427759-00            2024년도 이러닝 콘텐츠 개발(디지털 신기술 2차)   \n",
       "..              ...                                      ...   \n",
       "371  20200534133-00  중학교 사회·과학 디지털교과서 연계 교과융합형·심화형 실감형콘텐츠 개발   \n",
       "372  20200533118-00             2020년 교육부 디지털 정책홍보 활성화 사업 계약   \n",
       "373  20200526444-00           군자디지털과학고 교사동(1,3,4동) 내진성능평가 용역   \n",
       "374  20200519514-00      2020년 방송중·고 디지털 학습 콘텐츠 개발 및 유지관리 사업   \n",
       "375  20200516075-00                   2020년 중요기록물 디지털화 사업 용역   \n",
       "\n",
       "                           수요기관                        입력일시\\n(입찰마감일시)  \n",
       "0      인천광역시교육청 인천광역시교육청교육과학정보원  2024/04/19 14:55\\n(2024/04/29 10:00)  \n",
       "1                 (사)에이펙국제교육협력원                 2024/04/17 17:44\\n(-)  \n",
       "2    강원특별자치도교육청 강원특별자치도교육청교육연수원  2024/04/17 15:44\\n(2024/04/29 15:00)  \n",
       "3                     한국기술교육대학교  2024/04/17 14:31\\n(2024/05/28 10:00)  \n",
       "4                     한국기술교육대학교  2024/04/17 14:30\\n(2024/05/28 10:00)  \n",
       "..                          ...                                   ...  \n",
       "371                   한국교육학술정보원  2020/06/01 16:01\\n(2020/06/16 10:00)  \n",
       "372                         교육부  2020/05/26 17:56\\n(2020/05/27 14:00)  \n",
       "373           경기도교육청 경기도시흥교육지원청  2020/05/21 14:27\\n(2020/05/29 10:00)  \n",
       "374                     한국교육개발원  2020/05/18 17:10\\n(2020/06/09 14:00)  \n",
       "375                    인천광역시교육청  2020/05/14 17:01\\n(2020/06/10 10:00)  \n",
       "\n",
       "[376 rows x 4 columns]"
      ]
     },
     "execution_count": 4,
     "metadata": {},
     "output_type": "execute_result"
    }
   ],
   "source": [
    "import re\n",
    "\n",
    "df"
   ]
  },
  {
   "cell_type": "markdown",
   "metadata": {},
   "source": [
    "## 1. 공고번호, 차수 나누어 정제하고 공고번호 인덱스로 만들기"
   ]
  },
  {
   "cell_type": "code",
   "execution_count": 5,
   "metadata": {
    "id": "UEWtw1LxJ774"
   },
   "outputs": [],
   "source": [
    "df['공고번호-차수'] = df['공고번호-차수'].apply(lambda x: re.findall(r'[0-9]+', x))"
   ]
  },
  {
   "cell_type": "code",
   "execution_count": 6,
   "metadata": {
    "colab": {
     "base_uri": "https://localhost:8080/"
    },
    "id": "prVLwtXpKI3W",
    "outputId": "b8574db2-847f-48b8-8031-9039dd6b4726"
   },
   "outputs": [
    {
     "data": {
      "text/plain": [
       "공고번호-차수\n",
       "True     375\n",
       "False      1\n",
       "Name: count, dtype: int64"
      ]
     },
     "execution_count": 6,
     "metadata": {},
     "output_type": "execute_result"
    }
   ],
   "source": [
    "df['공고번호-차수'].apply(lambda x: len(x) == 2).value_counts()"
   ]
  },
  {
   "cell_type": "code",
   "execution_count": 7,
   "metadata": {
    "id": "-q2UkDA_L4mu"
   },
   "outputs": [],
   "source": [
    "df['공고번호'] = df['공고번호-차수'].apply(lambda x: x[0])"
   ]
  },
  {
   "cell_type": "code",
   "execution_count": 8,
   "metadata": {
    "id": "w0jQQQDbMesj"
   },
   "outputs": [],
   "source": [
    "df['차수'] = df['공고번호-차수'].apply(lambda x: x[1])"
   ]
  },
  {
   "cell_type": "code",
   "execution_count": 9,
   "metadata": {
    "colab": {
     "base_uri": "https://localhost:8080/"
    },
    "id": "sr5cQ8onMj6M",
    "outputId": "85a4df07-fc70-4696-82aa-0c9e0ede4578"
   },
   "outputs": [
    {
     "data": {
      "text/plain": [
       "True"
      ]
     },
     "execution_count": 9,
     "metadata": {},
     "output_type": "execute_result"
    }
   ],
   "source": [
    "len(df['공고번호'].unique()) == len(df['공고번호'])\n",
    "\n",
    "# 공고번호 유니크 확인"
   ]
  },
  {
   "cell_type": "code",
   "execution_count": 10,
   "metadata": {},
   "outputs": [
    {
     "data": {
      "text/html": [
       "<div>\n",
       "<style scoped>\n",
       "    .dataframe tbody tr th:only-of-type {\n",
       "        vertical-align: middle;\n",
       "    }\n",
       "\n",
       "    .dataframe tbody tr th {\n",
       "        vertical-align: top;\n",
       "    }\n",
       "\n",
       "    .dataframe thead th {\n",
       "        text-align: right;\n",
       "    }\n",
       "</style>\n",
       "<table border=\"1\" class=\"dataframe\">\n",
       "  <thead>\n",
       "    <tr style=\"text-align: right;\">\n",
       "      <th></th>\n",
       "      <th>공고명</th>\n",
       "      <th>수요기관</th>\n",
       "      <th>입력일시\\n(입찰마감일시)</th>\n",
       "      <th>차수</th>\n",
       "    </tr>\n",
       "    <tr>\n",
       "      <th>공고번호</th>\n",
       "      <th></th>\n",
       "      <th></th>\n",
       "      <th></th>\n",
       "      <th></th>\n",
       "    </tr>\n",
       "  </thead>\n",
       "  <tbody>\n",
       "    <tr>\n",
       "      <th>20240432327</th>\n",
       "      <td>2024년 AI디지털교과서(코스웨어) 직무연수 위탁 운영 용역 공고</td>\n",
       "      <td>인천광역시교육청 인천광역시교육청교육과학정보원</td>\n",
       "      <td>2024/04/19 14:55\\n(2024/04/29 10:00)</td>\n",
       "      <td>00</td>\n",
       "    </tr>\n",
       "    <tr>\n",
       "      <th>20240421364</th>\n",
       "      <td>APEC 디지털 교육 정책 포럼 행사 대행</td>\n",
       "      <td>(사)에이펙국제교육협력원</td>\n",
       "      <td>2024/04/17 17:44\\n(-)</td>\n",
       "      <td>02</td>\n",
       "    </tr>\n",
       "    <tr>\n",
       "      <th>20240427845</th>\n",
       "      <td>2024년 디지털 기반 수업혁신 교원역량강화 직무연수 위탁 운영</td>\n",
       "      <td>강원특별자치도교육청 강원특별자치도교육청교육연수원</td>\n",
       "      <td>2024/04/17 15:44\\n(2024/04/29 15:00)</td>\n",
       "      <td>00</td>\n",
       "    </tr>\n",
       "    <tr>\n",
       "      <th>20240427288</th>\n",
       "      <td>2024년도 이러닝 콘텐츠 개발(디지털 신기술 1차)</td>\n",
       "      <td>한국기술교육대학교</td>\n",
       "      <td>2024/04/17 14:31\\n(2024/05/28 10:00)</td>\n",
       "      <td>00</td>\n",
       "    </tr>\n",
       "    <tr>\n",
       "      <th>20240427759</th>\n",
       "      <td>2024년도 이러닝 콘텐츠 개발(디지털 신기술 2차)</td>\n",
       "      <td>한국기술교육대학교</td>\n",
       "      <td>2024/04/17 14:30\\n(2024/05/28 10:00)</td>\n",
       "      <td>00</td>\n",
       "    </tr>\n",
       "    <tr>\n",
       "      <th>...</th>\n",
       "      <td>...</td>\n",
       "      <td>...</td>\n",
       "      <td>...</td>\n",
       "      <td>...</td>\n",
       "    </tr>\n",
       "    <tr>\n",
       "      <th>20200534133</th>\n",
       "      <td>중학교 사회·과학 디지털교과서 연계 교과융합형·심화형 실감형콘텐츠 개발</td>\n",
       "      <td>한국교육학술정보원</td>\n",
       "      <td>2020/06/01 16:01\\n(2020/06/16 10:00)</td>\n",
       "      <td>00</td>\n",
       "    </tr>\n",
       "    <tr>\n",
       "      <th>20200533118</th>\n",
       "      <td>2020년 교육부 디지털 정책홍보 활성화 사업 계약</td>\n",
       "      <td>교육부</td>\n",
       "      <td>2020/05/26 17:56\\n(2020/05/27 14:00)</td>\n",
       "      <td>00</td>\n",
       "    </tr>\n",
       "    <tr>\n",
       "      <th>20200526444</th>\n",
       "      <td>군자디지털과학고 교사동(1,3,4동) 내진성능평가 용역</td>\n",
       "      <td>경기도교육청 경기도시흥교육지원청</td>\n",
       "      <td>2020/05/21 14:27\\n(2020/05/29 10:00)</td>\n",
       "      <td>00</td>\n",
       "    </tr>\n",
       "    <tr>\n",
       "      <th>20200519514</th>\n",
       "      <td>2020년 방송중·고 디지털 학습 콘텐츠 개발 및 유지관리 사업</td>\n",
       "      <td>한국교육개발원</td>\n",
       "      <td>2020/05/18 17:10\\n(2020/06/09 14:00)</td>\n",
       "      <td>00</td>\n",
       "    </tr>\n",
       "    <tr>\n",
       "      <th>20200516075</th>\n",
       "      <td>2020년 중요기록물 디지털화 사업 용역</td>\n",
       "      <td>인천광역시교육청</td>\n",
       "      <td>2020/05/14 17:01\\n(2020/06/10 10:00)</td>\n",
       "      <td>00</td>\n",
       "    </tr>\n",
       "  </tbody>\n",
       "</table>\n",
       "<p>376 rows × 4 columns</p>\n",
       "</div>"
      ],
      "text/plain": [
       "                                                 공고명  \\\n",
       "공고번호                                                   \n",
       "20240432327    2024년 AI디지털교과서(코스웨어) 직무연수 위탁 운영 용역 공고   \n",
       "20240421364                  APEC 디지털 교육 정책 포럼 행사 대행   \n",
       "20240427845      2024년 디지털 기반 수업혁신 교원역량강화 직무연수 위탁 운영   \n",
       "20240427288            2024년도 이러닝 콘텐츠 개발(디지털 신기술 1차)   \n",
       "20240427759            2024년도 이러닝 콘텐츠 개발(디지털 신기술 2차)   \n",
       "...                                              ...   \n",
       "20200534133  중학교 사회·과학 디지털교과서 연계 교과융합형·심화형 실감형콘텐츠 개발   \n",
       "20200533118             2020년 교육부 디지털 정책홍보 활성화 사업 계약   \n",
       "20200526444           군자디지털과학고 교사동(1,3,4동) 내진성능평가 용역   \n",
       "20200519514      2020년 방송중·고 디지털 학습 콘텐츠 개발 및 유지관리 사업   \n",
       "20200516075                   2020년 중요기록물 디지털화 사업 용역   \n",
       "\n",
       "                                   수요기관                        입력일시\\n(입찰마감일시)  \\\n",
       "공고번호                                                                            \n",
       "20240432327    인천광역시교육청 인천광역시교육청교육과학정보원  2024/04/19 14:55\\n(2024/04/29 10:00)   \n",
       "20240421364               (사)에이펙국제교육협력원                 2024/04/17 17:44\\n(-)   \n",
       "20240427845  강원특별자치도교육청 강원특별자치도교육청교육연수원  2024/04/17 15:44\\n(2024/04/29 15:00)   \n",
       "20240427288                   한국기술교육대학교  2024/04/17 14:31\\n(2024/05/28 10:00)   \n",
       "20240427759                   한국기술교육대학교  2024/04/17 14:30\\n(2024/05/28 10:00)   \n",
       "...                                 ...                                   ...   \n",
       "20200534133                   한국교육학술정보원  2020/06/01 16:01\\n(2020/06/16 10:00)   \n",
       "20200533118                         교육부  2020/05/26 17:56\\n(2020/05/27 14:00)   \n",
       "20200526444           경기도교육청 경기도시흥교육지원청  2020/05/21 14:27\\n(2020/05/29 10:00)   \n",
       "20200519514                     한국교육개발원  2020/05/18 17:10\\n(2020/06/09 14:00)   \n",
       "20200516075                    인천광역시교육청  2020/05/14 17:01\\n(2020/06/10 10:00)   \n",
       "\n",
       "             차수  \n",
       "공고번호             \n",
       "20240432327  00  \n",
       "20240421364  02  \n",
       "20240427845  00  \n",
       "20240427288  00  \n",
       "20240427759  00  \n",
       "...          ..  \n",
       "20200534133  00  \n",
       "20200533118  00  \n",
       "20200526444  00  \n",
       "20200519514  00  \n",
       "20200516075  00  \n",
       "\n",
       "[376 rows x 4 columns]"
      ]
     },
     "execution_count": 10,
     "metadata": {},
     "output_type": "execute_result"
    }
   ],
   "source": [
    "# 기존 '공고번호-차수' 컬럼 삭제, 공고번호 인덱스 만들기\n",
    "df.drop('공고번호-차수', inplace = True, axis = 1)\n",
    "df.set_index('공고번호', inplace = True)\n",
    "\n",
    "df"
   ]
  },
  {
   "cell_type": "markdown",
   "metadata": {},
   "source": [
    "## 2. 입력일시 컬럼명 깔끔하게 만들고 속성 데이트타임으로 변경하기"
   ]
  },
  {
   "cell_type": "code",
   "execution_count": 11,
   "metadata": {
    "id": "dj4HaHV1MttE"
   },
   "outputs": [],
   "source": [
    "df['입력일시\\n(입찰마감일시)'] = df['입력일시\\n(입찰마감일시)'].apply(lambda x: re.findall(r'^.*?(?=\\n)', x)[0])"
   ]
  },
  {
   "cell_type": "code",
   "execution_count": 12,
   "metadata": {},
   "outputs": [
    {
     "data": {
      "text/html": [
       "<div>\n",
       "<style scoped>\n",
       "    .dataframe tbody tr th:only-of-type {\n",
       "        vertical-align: middle;\n",
       "    }\n",
       "\n",
       "    .dataframe tbody tr th {\n",
       "        vertical-align: top;\n",
       "    }\n",
       "\n",
       "    .dataframe thead th {\n",
       "        text-align: right;\n",
       "    }\n",
       "</style>\n",
       "<table border=\"1\" class=\"dataframe\">\n",
       "  <thead>\n",
       "    <tr style=\"text-align: right;\">\n",
       "      <th></th>\n",
       "      <th>공고명</th>\n",
       "      <th>수요기관</th>\n",
       "      <th>입력일시\\n(입찰마감일시)</th>\n",
       "      <th>차수</th>\n",
       "    </tr>\n",
       "    <tr>\n",
       "      <th>공고번호</th>\n",
       "      <th></th>\n",
       "      <th></th>\n",
       "      <th></th>\n",
       "      <th></th>\n",
       "    </tr>\n",
       "  </thead>\n",
       "  <tbody>\n",
       "    <tr>\n",
       "      <th>20240432327</th>\n",
       "      <td>2024년 AI디지털교과서(코스웨어) 직무연수 위탁 운영 용역 공고</td>\n",
       "      <td>인천광역시교육청 인천광역시교육청교육과학정보원</td>\n",
       "      <td>2024/04/19 14:55</td>\n",
       "      <td>00</td>\n",
       "    </tr>\n",
       "    <tr>\n",
       "      <th>20240421364</th>\n",
       "      <td>APEC 디지털 교육 정책 포럼 행사 대행</td>\n",
       "      <td>(사)에이펙국제교육협력원</td>\n",
       "      <td>2024/04/17 17:44</td>\n",
       "      <td>02</td>\n",
       "    </tr>\n",
       "    <tr>\n",
       "      <th>20240427845</th>\n",
       "      <td>2024년 디지털 기반 수업혁신 교원역량강화 직무연수 위탁 운영</td>\n",
       "      <td>강원특별자치도교육청 강원특별자치도교육청교육연수원</td>\n",
       "      <td>2024/04/17 15:44</td>\n",
       "      <td>00</td>\n",
       "    </tr>\n",
       "    <tr>\n",
       "      <th>20240427288</th>\n",
       "      <td>2024년도 이러닝 콘텐츠 개발(디지털 신기술 1차)</td>\n",
       "      <td>한국기술교육대학교</td>\n",
       "      <td>2024/04/17 14:31</td>\n",
       "      <td>00</td>\n",
       "    </tr>\n",
       "    <tr>\n",
       "      <th>20240427759</th>\n",
       "      <td>2024년도 이러닝 콘텐츠 개발(디지털 신기술 2차)</td>\n",
       "      <td>한국기술교육대학교</td>\n",
       "      <td>2024/04/17 14:30</td>\n",
       "      <td>00</td>\n",
       "    </tr>\n",
       "  </tbody>\n",
       "</table>\n",
       "</div>"
      ],
      "text/plain": [
       "                                               공고명  \\\n",
       "공고번호                                                 \n",
       "20240432327  2024년 AI디지털교과서(코스웨어) 직무연수 위탁 운영 용역 공고   \n",
       "20240421364                APEC 디지털 교육 정책 포럼 행사 대행   \n",
       "20240427845    2024년 디지털 기반 수업혁신 교원역량강화 직무연수 위탁 운영   \n",
       "20240427288          2024년도 이러닝 콘텐츠 개발(디지털 신기술 1차)   \n",
       "20240427759          2024년도 이러닝 콘텐츠 개발(디지털 신기술 2차)   \n",
       "\n",
       "                                   수요기관    입력일시\\n(입찰마감일시)  차수  \n",
       "공고번호                                                           \n",
       "20240432327    인천광역시교육청 인천광역시교육청교육과학정보원  2024/04/19 14:55  00  \n",
       "20240421364               (사)에이펙국제교육협력원  2024/04/17 17:44  02  \n",
       "20240427845  강원특별자치도교육청 강원특별자치도교육청교육연수원  2024/04/17 15:44  00  \n",
       "20240427288                   한국기술교육대학교  2024/04/17 14:31  00  \n",
       "20240427759                   한국기술교육대학교  2024/04/17 14:30  00  "
      ]
     },
     "execution_count": 12,
     "metadata": {},
     "output_type": "execute_result"
    }
   ],
   "source": [
    "df.head()"
   ]
  },
  {
   "cell_type": "code",
   "execution_count": 13,
   "metadata": {
    "id": "zMIM1DB1NCva"
   },
   "outputs": [],
   "source": [
    "df['입력일시\\n(입찰마감일시)'] = pd.to_datetime(df['입력일시\\n(입찰마감일시)'])"
   ]
  },
  {
   "cell_type": "code",
   "execution_count": 14,
   "metadata": {},
   "outputs": [
    {
     "data": {
      "text/html": [
       "<div>\n",
       "<style scoped>\n",
       "    .dataframe tbody tr th:only-of-type {\n",
       "        vertical-align: middle;\n",
       "    }\n",
       "\n",
       "    .dataframe tbody tr th {\n",
       "        vertical-align: top;\n",
       "    }\n",
       "\n",
       "    .dataframe thead th {\n",
       "        text-align: right;\n",
       "    }\n",
       "</style>\n",
       "<table border=\"1\" class=\"dataframe\">\n",
       "  <thead>\n",
       "    <tr style=\"text-align: right;\">\n",
       "      <th></th>\n",
       "      <th>공고명</th>\n",
       "      <th>수요기관</th>\n",
       "      <th>입력일시\\n(입찰마감일시)</th>\n",
       "      <th>차수</th>\n",
       "    </tr>\n",
       "    <tr>\n",
       "      <th>공고번호</th>\n",
       "      <th></th>\n",
       "      <th></th>\n",
       "      <th></th>\n",
       "      <th></th>\n",
       "    </tr>\n",
       "  </thead>\n",
       "  <tbody>\n",
       "    <tr>\n",
       "      <th>20240432327</th>\n",
       "      <td>2024년 AI디지털교과서(코스웨어) 직무연수 위탁 운영 용역 공고</td>\n",
       "      <td>인천광역시교육청 인천광역시교육청교육과학정보원</td>\n",
       "      <td>2024-04-19 14:55:00</td>\n",
       "      <td>00</td>\n",
       "    </tr>\n",
       "    <tr>\n",
       "      <th>20240421364</th>\n",
       "      <td>APEC 디지털 교육 정책 포럼 행사 대행</td>\n",
       "      <td>(사)에이펙국제교육협력원</td>\n",
       "      <td>2024-04-17 17:44:00</td>\n",
       "      <td>02</td>\n",
       "    </tr>\n",
       "    <tr>\n",
       "      <th>20240427845</th>\n",
       "      <td>2024년 디지털 기반 수업혁신 교원역량강화 직무연수 위탁 운영</td>\n",
       "      <td>강원특별자치도교육청 강원특별자치도교육청교육연수원</td>\n",
       "      <td>2024-04-17 15:44:00</td>\n",
       "      <td>00</td>\n",
       "    </tr>\n",
       "    <tr>\n",
       "      <th>20240427288</th>\n",
       "      <td>2024년도 이러닝 콘텐츠 개발(디지털 신기술 1차)</td>\n",
       "      <td>한국기술교육대학교</td>\n",
       "      <td>2024-04-17 14:31:00</td>\n",
       "      <td>00</td>\n",
       "    </tr>\n",
       "    <tr>\n",
       "      <th>20240427759</th>\n",
       "      <td>2024년도 이러닝 콘텐츠 개발(디지털 신기술 2차)</td>\n",
       "      <td>한국기술교육대학교</td>\n",
       "      <td>2024-04-17 14:30:00</td>\n",
       "      <td>00</td>\n",
       "    </tr>\n",
       "  </tbody>\n",
       "</table>\n",
       "</div>"
      ],
      "text/plain": [
       "                                               공고명  \\\n",
       "공고번호                                                 \n",
       "20240432327  2024년 AI디지털교과서(코스웨어) 직무연수 위탁 운영 용역 공고   \n",
       "20240421364                APEC 디지털 교육 정책 포럼 행사 대행   \n",
       "20240427845    2024년 디지털 기반 수업혁신 교원역량강화 직무연수 위탁 운영   \n",
       "20240427288          2024년도 이러닝 콘텐츠 개발(디지털 신기술 1차)   \n",
       "20240427759          2024년도 이러닝 콘텐츠 개발(디지털 신기술 2차)   \n",
       "\n",
       "                                   수요기관      입력일시\\n(입찰마감일시)  차수  \n",
       "공고번호                                                             \n",
       "20240432327    인천광역시교육청 인천광역시교육청교육과학정보원 2024-04-19 14:55:00  00  \n",
       "20240421364               (사)에이펙국제교육협력원 2024-04-17 17:44:00  02  \n",
       "20240427845  강원특별자치도교육청 강원특별자치도교육청교육연수원 2024-04-17 15:44:00  00  \n",
       "20240427288                   한국기술교육대학교 2024-04-17 14:31:00  00  \n",
       "20240427759                   한국기술교육대학교 2024-04-17 14:30:00  00  "
      ]
     },
     "execution_count": 14,
     "metadata": {},
     "output_type": "execute_result"
    }
   ],
   "source": [
    "df.head()"
   ]
  },
  {
   "cell_type": "code",
   "execution_count": 15,
   "metadata": {
    "id": "PVIai-T7NkuH"
   },
   "outputs": [
    {
     "data": {
      "text/html": [
       "<div>\n",
       "<style scoped>\n",
       "    .dataframe tbody tr th:only-of-type {\n",
       "        vertical-align: middle;\n",
       "    }\n",
       "\n",
       "    .dataframe tbody tr th {\n",
       "        vertical-align: top;\n",
       "    }\n",
       "\n",
       "    .dataframe thead th {\n",
       "        text-align: right;\n",
       "    }\n",
       "</style>\n",
       "<table border=\"1\" class=\"dataframe\">\n",
       "  <thead>\n",
       "    <tr style=\"text-align: right;\">\n",
       "      <th></th>\n",
       "      <th>공고명</th>\n",
       "      <th>수요기관</th>\n",
       "      <th>일시</th>\n",
       "      <th>차수</th>\n",
       "    </tr>\n",
       "    <tr>\n",
       "      <th>공고번호</th>\n",
       "      <th></th>\n",
       "      <th></th>\n",
       "      <th></th>\n",
       "      <th></th>\n",
       "    </tr>\n",
       "  </thead>\n",
       "  <tbody>\n",
       "    <tr>\n",
       "      <th>20240432327</th>\n",
       "      <td>2024년 AI디지털교과서(코스웨어) 직무연수 위탁 운영 용역 공고</td>\n",
       "      <td>인천광역시교육청 인천광역시교육청교육과학정보원</td>\n",
       "      <td>2024-04-19 14:55:00</td>\n",
       "      <td>00</td>\n",
       "    </tr>\n",
       "    <tr>\n",
       "      <th>20240421364</th>\n",
       "      <td>APEC 디지털 교육 정책 포럼 행사 대행</td>\n",
       "      <td>(사)에이펙국제교육협력원</td>\n",
       "      <td>2024-04-17 17:44:00</td>\n",
       "      <td>02</td>\n",
       "    </tr>\n",
       "    <tr>\n",
       "      <th>20240427845</th>\n",
       "      <td>2024년 디지털 기반 수업혁신 교원역량강화 직무연수 위탁 운영</td>\n",
       "      <td>강원특별자치도교육청 강원특별자치도교육청교육연수원</td>\n",
       "      <td>2024-04-17 15:44:00</td>\n",
       "      <td>00</td>\n",
       "    </tr>\n",
       "    <tr>\n",
       "      <th>20240427288</th>\n",
       "      <td>2024년도 이러닝 콘텐츠 개발(디지털 신기술 1차)</td>\n",
       "      <td>한국기술교육대학교</td>\n",
       "      <td>2024-04-17 14:31:00</td>\n",
       "      <td>00</td>\n",
       "    </tr>\n",
       "    <tr>\n",
       "      <th>20240427759</th>\n",
       "      <td>2024년도 이러닝 콘텐츠 개발(디지털 신기술 2차)</td>\n",
       "      <td>한국기술교육대학교</td>\n",
       "      <td>2024-04-17 14:30:00</td>\n",
       "      <td>00</td>\n",
       "    </tr>\n",
       "  </tbody>\n",
       "</table>\n",
       "</div>"
      ],
      "text/plain": [
       "                                               공고명  \\\n",
       "공고번호                                                 \n",
       "20240432327  2024년 AI디지털교과서(코스웨어) 직무연수 위탁 운영 용역 공고   \n",
       "20240421364                APEC 디지털 교육 정책 포럼 행사 대행   \n",
       "20240427845    2024년 디지털 기반 수업혁신 교원역량강화 직무연수 위탁 운영   \n",
       "20240427288          2024년도 이러닝 콘텐츠 개발(디지털 신기술 1차)   \n",
       "20240427759          2024년도 이러닝 콘텐츠 개발(디지털 신기술 2차)   \n",
       "\n",
       "                                   수요기관                  일시  차수  \n",
       "공고번호                                                             \n",
       "20240432327    인천광역시교육청 인천광역시교육청교육과학정보원 2024-04-19 14:55:00  00  \n",
       "20240421364               (사)에이펙국제교육협력원 2024-04-17 17:44:00  02  \n",
       "20240427845  강원특별자치도교육청 강원특별자치도교육청교육연수원 2024-04-17 15:44:00  00  \n",
       "20240427288                   한국기술교육대학교 2024-04-17 14:31:00  00  \n",
       "20240427759                   한국기술교육대학교 2024-04-17 14:30:00  00  "
      ]
     },
     "execution_count": 15,
     "metadata": {},
     "output_type": "execute_result"
    }
   ],
   "source": [
    "df.rename(columns = {'입력일시\\n(입찰마감일시)' : '일시'}, inplace = True)\n",
    "\n",
    "df.head()"
   ]
  },
  {
   "cell_type": "markdown",
   "metadata": {
    "id": "6E_EtgUEUikA"
   },
   "source": [
    "## 3. 키워드 컬럼 만들기"
   ]
  },
  {
   "cell_type": "markdown",
   "metadata": {},
   "source": [
    "### (1) keyword 1. 교과서 (코스웨어)"
   ]
  },
  {
   "cell_type": "code",
   "execution_count": 16,
   "metadata": {
    "colab": {
     "base_uri": "https://localhost:8080/"
    },
    "id": "yXR5ZuI1NqQ5",
    "outputId": "ee16f45f-ba1b-4023-8412-ab4e5ca38444"
   },
   "outputs": [
    {
     "data": {
      "text/plain": [
       "공고명\n",
       "False    320\n",
       "True      56\n",
       "Name: count, dtype: int64"
      ]
     },
     "execution_count": 16,
     "metadata": {},
     "output_type": "execute_result"
    }
   ],
   "source": [
    "keyword = '교과서'\n",
    "\n",
    "df['공고명'].str.contains(keyword).value_counts()"
   ]
  },
  {
   "cell_type": "code",
   "execution_count": 17,
   "metadata": {
    "id": "eYl6SBJrOKpH"
   },
   "outputs": [
    {
     "data": {
      "text/html": [
       "<div>\n",
       "<style scoped>\n",
       "    .dataframe tbody tr th:only-of-type {\n",
       "        vertical-align: middle;\n",
       "    }\n",
       "\n",
       "    .dataframe tbody tr th {\n",
       "        vertical-align: top;\n",
       "    }\n",
       "\n",
       "    .dataframe thead th {\n",
       "        text-align: right;\n",
       "    }\n",
       "</style>\n",
       "<table border=\"1\" class=\"dataframe\">\n",
       "  <thead>\n",
       "    <tr style=\"text-align: right;\">\n",
       "      <th></th>\n",
       "      <th>공고명</th>\n",
       "      <th>수요기관</th>\n",
       "      <th>일시</th>\n",
       "      <th>차수</th>\n",
       "      <th>교과서 키워드</th>\n",
       "    </tr>\n",
       "    <tr>\n",
       "      <th>공고번호</th>\n",
       "      <th></th>\n",
       "      <th></th>\n",
       "      <th></th>\n",
       "      <th></th>\n",
       "      <th></th>\n",
       "    </tr>\n",
       "  </thead>\n",
       "  <tbody>\n",
       "    <tr>\n",
       "      <th>20240432327</th>\n",
       "      <td>2024년 AI디지털교과서(코스웨어) 직무연수 위탁 운영 용역 공고</td>\n",
       "      <td>인천광역시교육청 인천광역시교육청교육과학정보원</td>\n",
       "      <td>2024-04-19 14:55:00</td>\n",
       "      <td>00</td>\n",
       "      <td>True</td>\n",
       "    </tr>\n",
       "    <tr>\n",
       "      <th>20240421364</th>\n",
       "      <td>APEC 디지털 교육 정책 포럼 행사 대행</td>\n",
       "      <td>(사)에이펙국제교육협력원</td>\n",
       "      <td>2024-04-17 17:44:00</td>\n",
       "      <td>02</td>\n",
       "      <td>False</td>\n",
       "    </tr>\n",
       "    <tr>\n",
       "      <th>20240427845</th>\n",
       "      <td>2024년 디지털 기반 수업혁신 교원역량강화 직무연수 위탁 운영</td>\n",
       "      <td>강원특별자치도교육청 강원특별자치도교육청교육연수원</td>\n",
       "      <td>2024-04-17 15:44:00</td>\n",
       "      <td>00</td>\n",
       "      <td>False</td>\n",
       "    </tr>\n",
       "    <tr>\n",
       "      <th>20240427288</th>\n",
       "      <td>2024년도 이러닝 콘텐츠 개발(디지털 신기술 1차)</td>\n",
       "      <td>한국기술교육대학교</td>\n",
       "      <td>2024-04-17 14:31:00</td>\n",
       "      <td>00</td>\n",
       "      <td>False</td>\n",
       "    </tr>\n",
       "    <tr>\n",
       "      <th>20240427759</th>\n",
       "      <td>2024년도 이러닝 콘텐츠 개발(디지털 신기술 2차)</td>\n",
       "      <td>한국기술교육대학교</td>\n",
       "      <td>2024-04-17 14:30:00</td>\n",
       "      <td>00</td>\n",
       "      <td>False</td>\n",
       "    </tr>\n",
       "  </tbody>\n",
       "</table>\n",
       "</div>"
      ],
      "text/plain": [
       "                                               공고명  \\\n",
       "공고번호                                                 \n",
       "20240432327  2024년 AI디지털교과서(코스웨어) 직무연수 위탁 운영 용역 공고   \n",
       "20240421364                APEC 디지털 교육 정책 포럼 행사 대행   \n",
       "20240427845    2024년 디지털 기반 수업혁신 교원역량강화 직무연수 위탁 운영   \n",
       "20240427288          2024년도 이러닝 콘텐츠 개발(디지털 신기술 1차)   \n",
       "20240427759          2024년도 이러닝 콘텐츠 개발(디지털 신기술 2차)   \n",
       "\n",
       "                                   수요기관                  일시  차수  교과서 키워드  \n",
       "공고번호                                                                      \n",
       "20240432327    인천광역시교육청 인천광역시교육청교육과학정보원 2024-04-19 14:55:00  00     True  \n",
       "20240421364               (사)에이펙국제교육협력원 2024-04-17 17:44:00  02    False  \n",
       "20240427845  강원특별자치도교육청 강원특별자치도교육청교육연수원 2024-04-17 15:44:00  00    False  \n",
       "20240427288                   한국기술교육대학교 2024-04-17 14:31:00  00    False  \n",
       "20240427759                   한국기술교육대학교 2024-04-17 14:30:00  00    False  "
      ]
     },
     "execution_count": 17,
     "metadata": {},
     "output_type": "execute_result"
    }
   ],
   "source": [
    "df['교과서 키워드'] = df['공고명'].str.contains(keyword)\n",
    "\n",
    "df.head()"
   ]
  },
  {
   "cell_type": "markdown",
   "metadata": {},
   "source": [
    "### (2) keyword 2. 콘텐츠"
   ]
  },
  {
   "cell_type": "code",
   "execution_count": 18,
   "metadata": {},
   "outputs": [
    {
     "data": {
      "text/plain": [
       "공고명\n",
       "False    330\n",
       "True      46\n",
       "Name: count, dtype: int64"
      ]
     },
     "execution_count": 18,
     "metadata": {},
     "output_type": "execute_result"
    }
   ],
   "source": [
    "keyword = '콘텐츠'\n",
    "\n",
    "df['공고명'].str.contains(keyword).value_counts()"
   ]
  },
  {
   "cell_type": "code",
   "execution_count": 19,
   "metadata": {},
   "outputs": [
    {
     "data": {
      "text/html": [
       "<div>\n",
       "<style scoped>\n",
       "    .dataframe tbody tr th:only-of-type {\n",
       "        vertical-align: middle;\n",
       "    }\n",
       "\n",
       "    .dataframe tbody tr th {\n",
       "        vertical-align: top;\n",
       "    }\n",
       "\n",
       "    .dataframe thead th {\n",
       "        text-align: right;\n",
       "    }\n",
       "</style>\n",
       "<table border=\"1\" class=\"dataframe\">\n",
       "  <thead>\n",
       "    <tr style=\"text-align: right;\">\n",
       "      <th></th>\n",
       "      <th>공고명</th>\n",
       "      <th>수요기관</th>\n",
       "      <th>일시</th>\n",
       "      <th>차수</th>\n",
       "      <th>교과서 키워드</th>\n",
       "      <th>콘텐츠 키워드</th>\n",
       "    </tr>\n",
       "    <tr>\n",
       "      <th>공고번호</th>\n",
       "      <th></th>\n",
       "      <th></th>\n",
       "      <th></th>\n",
       "      <th></th>\n",
       "      <th></th>\n",
       "      <th></th>\n",
       "    </tr>\n",
       "  </thead>\n",
       "  <tbody>\n",
       "    <tr>\n",
       "      <th>20240432327</th>\n",
       "      <td>2024년 AI디지털교과서(코스웨어) 직무연수 위탁 운영 용역 공고</td>\n",
       "      <td>인천광역시교육청 인천광역시교육청교육과학정보원</td>\n",
       "      <td>2024-04-19 14:55:00</td>\n",
       "      <td>00</td>\n",
       "      <td>True</td>\n",
       "      <td>False</td>\n",
       "    </tr>\n",
       "    <tr>\n",
       "      <th>20240421364</th>\n",
       "      <td>APEC 디지털 교육 정책 포럼 행사 대행</td>\n",
       "      <td>(사)에이펙국제교육협력원</td>\n",
       "      <td>2024-04-17 17:44:00</td>\n",
       "      <td>02</td>\n",
       "      <td>False</td>\n",
       "      <td>False</td>\n",
       "    </tr>\n",
       "    <tr>\n",
       "      <th>20240427845</th>\n",
       "      <td>2024년 디지털 기반 수업혁신 교원역량강화 직무연수 위탁 운영</td>\n",
       "      <td>강원특별자치도교육청 강원특별자치도교육청교육연수원</td>\n",
       "      <td>2024-04-17 15:44:00</td>\n",
       "      <td>00</td>\n",
       "      <td>False</td>\n",
       "      <td>False</td>\n",
       "    </tr>\n",
       "    <tr>\n",
       "      <th>20240427288</th>\n",
       "      <td>2024년도 이러닝 콘텐츠 개발(디지털 신기술 1차)</td>\n",
       "      <td>한국기술교육대학교</td>\n",
       "      <td>2024-04-17 14:31:00</td>\n",
       "      <td>00</td>\n",
       "      <td>False</td>\n",
       "      <td>True</td>\n",
       "    </tr>\n",
       "    <tr>\n",
       "      <th>20240427759</th>\n",
       "      <td>2024년도 이러닝 콘텐츠 개발(디지털 신기술 2차)</td>\n",
       "      <td>한국기술교육대학교</td>\n",
       "      <td>2024-04-17 14:30:00</td>\n",
       "      <td>00</td>\n",
       "      <td>False</td>\n",
       "      <td>True</td>\n",
       "    </tr>\n",
       "  </tbody>\n",
       "</table>\n",
       "</div>"
      ],
      "text/plain": [
       "                                               공고명  \\\n",
       "공고번호                                                 \n",
       "20240432327  2024년 AI디지털교과서(코스웨어) 직무연수 위탁 운영 용역 공고   \n",
       "20240421364                APEC 디지털 교육 정책 포럼 행사 대행   \n",
       "20240427845    2024년 디지털 기반 수업혁신 교원역량강화 직무연수 위탁 운영   \n",
       "20240427288          2024년도 이러닝 콘텐츠 개발(디지털 신기술 1차)   \n",
       "20240427759          2024년도 이러닝 콘텐츠 개발(디지털 신기술 2차)   \n",
       "\n",
       "                                   수요기관                  일시  차수  교과서 키워드  \\\n",
       "공고번호                                                                       \n",
       "20240432327    인천광역시교육청 인천광역시교육청교육과학정보원 2024-04-19 14:55:00  00     True   \n",
       "20240421364               (사)에이펙국제교육협력원 2024-04-17 17:44:00  02    False   \n",
       "20240427845  강원특별자치도교육청 강원특별자치도교육청교육연수원 2024-04-17 15:44:00  00    False   \n",
       "20240427288                   한국기술교육대학교 2024-04-17 14:31:00  00    False   \n",
       "20240427759                   한국기술교육대학교 2024-04-17 14:30:00  00    False   \n",
       "\n",
       "             콘텐츠 키워드  \n",
       "공고번호                  \n",
       "20240432327    False  \n",
       "20240421364    False  \n",
       "20240427845    False  \n",
       "20240427288     True  \n",
       "20240427759     True  "
      ]
     },
     "execution_count": 19,
     "metadata": {},
     "output_type": "execute_result"
    }
   ],
   "source": [
    "df['콘텐츠 키워드'] = df['공고명'].str.contains(keyword)\n",
    "\n",
    "df.head()"
   ]
  },
  {
   "cell_type": "markdown",
   "metadata": {},
   "source": [
    "### (3) keyword 3. 플랫폼"
   ]
  },
  {
   "cell_type": "code",
   "execution_count": 20,
   "metadata": {},
   "outputs": [
    {
     "data": {
      "text/plain": [
       "공고명\n",
       "False    349\n",
       "True      27\n",
       "Name: count, dtype: int64"
      ]
     },
     "execution_count": 20,
     "metadata": {},
     "output_type": "execute_result"
    }
   ],
   "source": [
    "keyword = '플랫폼'\n",
    "\n",
    "df['공고명'].str.contains(keyword).value_counts()"
   ]
  },
  {
   "cell_type": "code",
   "execution_count": 21,
   "metadata": {},
   "outputs": [
    {
     "data": {
      "text/html": [
       "<div>\n",
       "<style scoped>\n",
       "    .dataframe tbody tr th:only-of-type {\n",
       "        vertical-align: middle;\n",
       "    }\n",
       "\n",
       "    .dataframe tbody tr th {\n",
       "        vertical-align: top;\n",
       "    }\n",
       "\n",
       "    .dataframe thead th {\n",
       "        text-align: right;\n",
       "    }\n",
       "</style>\n",
       "<table border=\"1\" class=\"dataframe\">\n",
       "  <thead>\n",
       "    <tr style=\"text-align: right;\">\n",
       "      <th></th>\n",
       "      <th>공고명</th>\n",
       "      <th>수요기관</th>\n",
       "      <th>일시</th>\n",
       "      <th>차수</th>\n",
       "      <th>교과서 키워드</th>\n",
       "      <th>콘텐츠 키워드</th>\n",
       "      <th>플랫폼 키워드</th>\n",
       "    </tr>\n",
       "    <tr>\n",
       "      <th>공고번호</th>\n",
       "      <th></th>\n",
       "      <th></th>\n",
       "      <th></th>\n",
       "      <th></th>\n",
       "      <th></th>\n",
       "      <th></th>\n",
       "      <th></th>\n",
       "    </tr>\n",
       "  </thead>\n",
       "  <tbody>\n",
       "    <tr>\n",
       "      <th>20230614440</th>\n",
       "      <td>2023년 디지털튜터 지원 사업</td>\n",
       "      <td>서울특별시교육청</td>\n",
       "      <td>2023-06-12 17:39:00</td>\n",
       "      <td>00</td>\n",
       "      <td>False</td>\n",
       "      <td>False</td>\n",
       "      <td>False</td>\n",
       "    </tr>\n",
       "    <tr>\n",
       "      <th>20230609880</th>\n",
       "      <td>(긴급)2023년 디지털 러닝 페스티벌 행사 용역</td>\n",
       "      <td>서울특별시교육청</td>\n",
       "      <td>2023-06-08 16:45:00</td>\n",
       "      <td>00</td>\n",
       "      <td>False</td>\n",
       "      <td>False</td>\n",
       "      <td>False</td>\n",
       "    </tr>\n",
       "    <tr>\n",
       "      <th>20230607689</th>\n",
       "      <td>2023년 초,중학생 디지털 리터러시 수행형 평가도구 개선 및 수준 측정 연구</td>\n",
       "      <td>한국교육학술정보원</td>\n",
       "      <td>2023-06-07 15:02:00</td>\n",
       "      <td>00</td>\n",
       "      <td>False</td>\n",
       "      <td>False</td>\n",
       "      <td>False</td>\n",
       "    </tr>\n",
       "    <tr>\n",
       "      <th>20230607839</th>\n",
       "      <td>교원 전용 디지털콘텐츠 플랫폼 잇다 교원 성장 프로젝트 연수 개발 및 운영</td>\n",
       "      <td>한국교육학술정보원</td>\n",
       "      <td>2023-06-07 15:00:00</td>\n",
       "      <td>00</td>\n",
       "      <td>False</td>\n",
       "      <td>True</td>\n",
       "      <td>True</td>\n",
       "    </tr>\n",
       "    <tr>\n",
       "      <th>20230607578</th>\n",
       "      <td>2023년 초중등학교 디지털 전환 지표 개발 및 실태조사</td>\n",
       "      <td>한국교육학술정보원</td>\n",
       "      <td>2023-06-07 14:31:00</td>\n",
       "      <td>00</td>\n",
       "      <td>False</td>\n",
       "      <td>False</td>\n",
       "      <td>False</td>\n",
       "    </tr>\n",
       "  </tbody>\n",
       "</table>\n",
       "</div>"
      ],
      "text/plain": [
       "                                                     공고명       수요기관  \\\n",
       "공고번호                                                                  \n",
       "20230614440                            2023년 디지털튜터 지원 사업   서울특별시교육청   \n",
       "20230609880                  (긴급)2023년 디지털 러닝 페스티벌 행사 용역   서울특별시교육청   \n",
       "20230607689  2023년 초,중학생 디지털 리터러시 수행형 평가도구 개선 및 수준 측정 연구  한국교육학술정보원   \n",
       "20230607839    교원 전용 디지털콘텐츠 플랫폼 잇다 교원 성장 프로젝트 연수 개발 및 운영  한국교육학술정보원   \n",
       "20230607578              2023년 초중등학교 디지털 전환 지표 개발 및 실태조사  한국교육학술정보원   \n",
       "\n",
       "                             일시  차수  교과서 키워드  콘텐츠 키워드  플랫폼 키워드  \n",
       "공고번호                                                            \n",
       "20230614440 2023-06-12 17:39:00  00    False    False    False  \n",
       "20230609880 2023-06-08 16:45:00  00    False    False    False  \n",
       "20230607689 2023-06-07 15:02:00  00    False    False    False  \n",
       "20230607839 2023-06-07 15:00:00  00    False     True     True  \n",
       "20230607578 2023-06-07 14:31:00  00    False    False    False  "
      ]
     },
     "execution_count": 21,
     "metadata": {},
     "output_type": "execute_result"
    }
   ],
   "source": [
    "df['플랫폼 키워드'] = df['공고명'].str.contains(keyword)\n",
    "\n",
    "df.iloc[160:165]"
   ]
  },
  {
   "cell_type": "markdown",
   "metadata": {},
   "source": [
    "### (4) keyword 4. 이러닝"
   ]
  },
  {
   "cell_type": "code",
   "execution_count": 22,
   "metadata": {},
   "outputs": [
    {
     "data": {
      "text/plain": [
       "공고명\n",
       "False    366\n",
       "True      10\n",
       "Name: count, dtype: int64"
      ]
     },
     "execution_count": 22,
     "metadata": {},
     "output_type": "execute_result"
    }
   ],
   "source": [
    "keyword = '이러닝'\n",
    "\n",
    "df['공고명'].str.contains(keyword).value_counts()"
   ]
  },
  {
   "cell_type": "code",
   "execution_count": 23,
   "metadata": {},
   "outputs": [
    {
     "data": {
      "text/html": [
       "<div>\n",
       "<style scoped>\n",
       "    .dataframe tbody tr th:only-of-type {\n",
       "        vertical-align: middle;\n",
       "    }\n",
       "\n",
       "    .dataframe tbody tr th {\n",
       "        vertical-align: top;\n",
       "    }\n",
       "\n",
       "    .dataframe thead th {\n",
       "        text-align: right;\n",
       "    }\n",
       "</style>\n",
       "<table border=\"1\" class=\"dataframe\">\n",
       "  <thead>\n",
       "    <tr style=\"text-align: right;\">\n",
       "      <th></th>\n",
       "      <th>공고명</th>\n",
       "      <th>수요기관</th>\n",
       "      <th>일시</th>\n",
       "      <th>차수</th>\n",
       "      <th>교과서 키워드</th>\n",
       "      <th>콘텐츠 키워드</th>\n",
       "      <th>플랫폼 키워드</th>\n",
       "      <th>이러닝 키워드</th>\n",
       "    </tr>\n",
       "    <tr>\n",
       "      <th>공고번호</th>\n",
       "      <th></th>\n",
       "      <th></th>\n",
       "      <th></th>\n",
       "      <th></th>\n",
       "      <th></th>\n",
       "      <th></th>\n",
       "      <th></th>\n",
       "      <th></th>\n",
       "    </tr>\n",
       "  </thead>\n",
       "  <tbody>\n",
       "    <tr>\n",
       "      <th>20200534133</th>\n",
       "      <td>중학교 사회·과학 디지털교과서 연계 교과융합형·심화형 실감형콘텐츠 개발</td>\n",
       "      <td>한국교육학술정보원</td>\n",
       "      <td>2020-06-01 16:01:00</td>\n",
       "      <td>00</td>\n",
       "      <td>True</td>\n",
       "      <td>True</td>\n",
       "      <td>False</td>\n",
       "      <td>False</td>\n",
       "    </tr>\n",
       "    <tr>\n",
       "      <th>20200533118</th>\n",
       "      <td>2020년 교육부 디지털 정책홍보 활성화 사업 계약</td>\n",
       "      <td>교육부</td>\n",
       "      <td>2020-05-26 17:56:00</td>\n",
       "      <td>00</td>\n",
       "      <td>False</td>\n",
       "      <td>False</td>\n",
       "      <td>False</td>\n",
       "      <td>False</td>\n",
       "    </tr>\n",
       "    <tr>\n",
       "      <th>20200526444</th>\n",
       "      <td>군자디지털과학고 교사동(1,3,4동) 내진성능평가 용역</td>\n",
       "      <td>경기도교육청 경기도시흥교육지원청</td>\n",
       "      <td>2020-05-21 14:27:00</td>\n",
       "      <td>00</td>\n",
       "      <td>False</td>\n",
       "      <td>False</td>\n",
       "      <td>False</td>\n",
       "      <td>False</td>\n",
       "    </tr>\n",
       "    <tr>\n",
       "      <th>20200519514</th>\n",
       "      <td>2020년 방송중·고 디지털 학습 콘텐츠 개발 및 유지관리 사업</td>\n",
       "      <td>한국교육개발원</td>\n",
       "      <td>2020-05-18 17:10:00</td>\n",
       "      <td>00</td>\n",
       "      <td>False</td>\n",
       "      <td>True</td>\n",
       "      <td>False</td>\n",
       "      <td>False</td>\n",
       "    </tr>\n",
       "    <tr>\n",
       "      <th>20200516075</th>\n",
       "      <td>2020년 중요기록물 디지털화 사업 용역</td>\n",
       "      <td>인천광역시교육청</td>\n",
       "      <td>2020-05-14 17:01:00</td>\n",
       "      <td>00</td>\n",
       "      <td>False</td>\n",
       "      <td>False</td>\n",
       "      <td>False</td>\n",
       "      <td>False</td>\n",
       "    </tr>\n",
       "  </tbody>\n",
       "</table>\n",
       "</div>"
      ],
      "text/plain": [
       "                                                 공고명               수요기관  \\\n",
       "공고번호                                                                      \n",
       "20200534133  중학교 사회·과학 디지털교과서 연계 교과융합형·심화형 실감형콘텐츠 개발          한국교육학술정보원   \n",
       "20200533118             2020년 교육부 디지털 정책홍보 활성화 사업 계약                교육부   \n",
       "20200526444           군자디지털과학고 교사동(1,3,4동) 내진성능평가 용역  경기도교육청 경기도시흥교육지원청   \n",
       "20200519514      2020년 방송중·고 디지털 학습 콘텐츠 개발 및 유지관리 사업            한국교육개발원   \n",
       "20200516075                   2020년 중요기록물 디지털화 사업 용역           인천광역시교육청   \n",
       "\n",
       "                             일시  차수  교과서 키워드  콘텐츠 키워드  플랫폼 키워드  이러닝 키워드  \n",
       "공고번호                                                                     \n",
       "20200534133 2020-06-01 16:01:00  00     True     True    False    False  \n",
       "20200533118 2020-05-26 17:56:00  00    False    False    False    False  \n",
       "20200526444 2020-05-21 14:27:00  00    False    False    False    False  \n",
       "20200519514 2020-05-18 17:10:00  00    False     True    False    False  \n",
       "20200516075 2020-05-14 17:01:00  00    False    False    False    False  "
      ]
     },
     "execution_count": 23,
     "metadata": {},
     "output_type": "execute_result"
    }
   ],
   "source": [
    "df['이러닝 키워드'] = df['공고명'].str.contains(keyword)\n",
    "\n",
    "df.tail()"
   ]
  },
  {
   "cell_type": "markdown",
   "metadata": {},
   "source": [
    "### (5) keyword 4. AI"
   ]
  },
  {
   "cell_type": "code",
   "execution_count": 24,
   "metadata": {},
   "outputs": [
    {
     "data": {
      "text/plain": [
       "공고명\n",
       "False    340\n",
       "True      36\n",
       "Name: count, dtype: int64"
      ]
     },
     "execution_count": 24,
     "metadata": {},
     "output_type": "execute_result"
    }
   ],
   "source": [
    "keyword = 'AI'\n",
    "\n",
    "df['공고명'].str.contains(keyword).value_counts()"
   ]
  },
  {
   "cell_type": "code",
   "execution_count": 25,
   "metadata": {},
   "outputs": [
    {
     "data": {
      "text/html": [
       "<div>\n",
       "<style scoped>\n",
       "    .dataframe tbody tr th:only-of-type {\n",
       "        vertical-align: middle;\n",
       "    }\n",
       "\n",
       "    .dataframe tbody tr th {\n",
       "        vertical-align: top;\n",
       "    }\n",
       "\n",
       "    .dataframe thead th {\n",
       "        text-align: right;\n",
       "    }\n",
       "</style>\n",
       "<table border=\"1\" class=\"dataframe\">\n",
       "  <thead>\n",
       "    <tr style=\"text-align: right;\">\n",
       "      <th></th>\n",
       "      <th>공고명</th>\n",
       "      <th>수요기관</th>\n",
       "      <th>일시</th>\n",
       "      <th>차수</th>\n",
       "      <th>교과서 키워드</th>\n",
       "      <th>콘텐츠 키워드</th>\n",
       "      <th>플랫폼 키워드</th>\n",
       "      <th>이러닝 키워드</th>\n",
       "      <th>AI 키워드</th>\n",
       "    </tr>\n",
       "    <tr>\n",
       "      <th>공고번호</th>\n",
       "      <th></th>\n",
       "      <th></th>\n",
       "      <th></th>\n",
       "      <th></th>\n",
       "      <th></th>\n",
       "      <th></th>\n",
       "      <th></th>\n",
       "      <th></th>\n",
       "      <th></th>\n",
       "    </tr>\n",
       "  </thead>\n",
       "  <tbody>\n",
       "    <tr>\n",
       "      <th>20240432327</th>\n",
       "      <td>2024년 AI디지털교과서(코스웨어) 직무연수 위탁 운영 용역 공고</td>\n",
       "      <td>인천광역시교육청 인천광역시교육청교육과학정보원</td>\n",
       "      <td>2024-04-19 14:55:00</td>\n",
       "      <td>00</td>\n",
       "      <td>True</td>\n",
       "      <td>False</td>\n",
       "      <td>False</td>\n",
       "      <td>False</td>\n",
       "      <td>True</td>\n",
       "    </tr>\n",
       "    <tr>\n",
       "      <th>20240421364</th>\n",
       "      <td>APEC 디지털 교육 정책 포럼 행사 대행</td>\n",
       "      <td>(사)에이펙국제교육협력원</td>\n",
       "      <td>2024-04-17 17:44:00</td>\n",
       "      <td>02</td>\n",
       "      <td>False</td>\n",
       "      <td>False</td>\n",
       "      <td>False</td>\n",
       "      <td>False</td>\n",
       "      <td>False</td>\n",
       "    </tr>\n",
       "    <tr>\n",
       "      <th>20240427845</th>\n",
       "      <td>2024년 디지털 기반 수업혁신 교원역량강화 직무연수 위탁 운영</td>\n",
       "      <td>강원특별자치도교육청 강원특별자치도교육청교육연수원</td>\n",
       "      <td>2024-04-17 15:44:00</td>\n",
       "      <td>00</td>\n",
       "      <td>False</td>\n",
       "      <td>False</td>\n",
       "      <td>False</td>\n",
       "      <td>False</td>\n",
       "      <td>False</td>\n",
       "    </tr>\n",
       "    <tr>\n",
       "      <th>20240427288</th>\n",
       "      <td>2024년도 이러닝 콘텐츠 개발(디지털 신기술 1차)</td>\n",
       "      <td>한국기술교육대학교</td>\n",
       "      <td>2024-04-17 14:31:00</td>\n",
       "      <td>00</td>\n",
       "      <td>False</td>\n",
       "      <td>True</td>\n",
       "      <td>False</td>\n",
       "      <td>True</td>\n",
       "      <td>False</td>\n",
       "    </tr>\n",
       "    <tr>\n",
       "      <th>20240427759</th>\n",
       "      <td>2024년도 이러닝 콘텐츠 개발(디지털 신기술 2차)</td>\n",
       "      <td>한국기술교육대학교</td>\n",
       "      <td>2024-04-17 14:30:00</td>\n",
       "      <td>00</td>\n",
       "      <td>False</td>\n",
       "      <td>True</td>\n",
       "      <td>False</td>\n",
       "      <td>True</td>\n",
       "      <td>False</td>\n",
       "    </tr>\n",
       "  </tbody>\n",
       "</table>\n",
       "</div>"
      ],
      "text/plain": [
       "                                               공고명  \\\n",
       "공고번호                                                 \n",
       "20240432327  2024년 AI디지털교과서(코스웨어) 직무연수 위탁 운영 용역 공고   \n",
       "20240421364                APEC 디지털 교육 정책 포럼 행사 대행   \n",
       "20240427845    2024년 디지털 기반 수업혁신 교원역량강화 직무연수 위탁 운영   \n",
       "20240427288          2024년도 이러닝 콘텐츠 개발(디지털 신기술 1차)   \n",
       "20240427759          2024년도 이러닝 콘텐츠 개발(디지털 신기술 2차)   \n",
       "\n",
       "                                   수요기관                  일시  차수  교과서 키워드  \\\n",
       "공고번호                                                                       \n",
       "20240432327    인천광역시교육청 인천광역시교육청교육과학정보원 2024-04-19 14:55:00  00     True   \n",
       "20240421364               (사)에이펙국제교육협력원 2024-04-17 17:44:00  02    False   \n",
       "20240427845  강원특별자치도교육청 강원특별자치도교육청교육연수원 2024-04-17 15:44:00  00    False   \n",
       "20240427288                   한국기술교육대학교 2024-04-17 14:31:00  00    False   \n",
       "20240427759                   한국기술교육대학교 2024-04-17 14:30:00  00    False   \n",
       "\n",
       "             콘텐츠 키워드  플랫폼 키워드  이러닝 키워드  AI 키워드  \n",
       "공고번호                                            \n",
       "20240432327    False    False    False    True  \n",
       "20240421364    False    False    False   False  \n",
       "20240427845    False    False    False   False  \n",
       "20240427288     True    False     True   False  \n",
       "20240427759     True    False     True   False  "
      ]
     },
     "execution_count": 25,
     "metadata": {},
     "output_type": "execute_result"
    }
   ],
   "source": [
    "df['AI 키워드'] = df['공고명'].str.contains(keyword)\n",
    "\n",
    "df.head()"
   ]
  },
  {
   "cell_type": "markdown",
   "metadata": {},
   "source": [
    "### 키워드 5개 한 눈에 보기"
   ]
  },
  {
   "cell_type": "code",
   "execution_count": 26,
   "metadata": {},
   "outputs": [
    {
     "data": {
      "text/html": [
       "<div>\n",
       "<style scoped>\n",
       "    .dataframe tbody tr th:only-of-type {\n",
       "        vertical-align: middle;\n",
       "    }\n",
       "\n",
       "    .dataframe tbody tr th {\n",
       "        vertical-align: top;\n",
       "    }\n",
       "\n",
       "    .dataframe thead th {\n",
       "        text-align: right;\n",
       "    }\n",
       "</style>\n",
       "<table border=\"1\" class=\"dataframe\">\n",
       "  <thead>\n",
       "    <tr style=\"text-align: right;\">\n",
       "      <th></th>\n",
       "      <th>교과서 키워드</th>\n",
       "      <th>콘텐츠 키워드</th>\n",
       "      <th>플랫폼 키워드</th>\n",
       "      <th>이러닝 키워드</th>\n",
       "      <th>AI 키워드</th>\n",
       "    </tr>\n",
       "    <tr>\n",
       "      <th>공고번호</th>\n",
       "      <th></th>\n",
       "      <th></th>\n",
       "      <th></th>\n",
       "      <th></th>\n",
       "      <th></th>\n",
       "    </tr>\n",
       "  </thead>\n",
       "  <tbody>\n",
       "    <tr>\n",
       "      <th>20240432327</th>\n",
       "      <td>True</td>\n",
       "      <td>False</td>\n",
       "      <td>False</td>\n",
       "      <td>False</td>\n",
       "      <td>True</td>\n",
       "    </tr>\n",
       "    <tr>\n",
       "      <th>20240421364</th>\n",
       "      <td>False</td>\n",
       "      <td>False</td>\n",
       "      <td>False</td>\n",
       "      <td>False</td>\n",
       "      <td>False</td>\n",
       "    </tr>\n",
       "    <tr>\n",
       "      <th>20240427845</th>\n",
       "      <td>False</td>\n",
       "      <td>False</td>\n",
       "      <td>False</td>\n",
       "      <td>False</td>\n",
       "      <td>False</td>\n",
       "    </tr>\n",
       "    <tr>\n",
       "      <th>20240427288</th>\n",
       "      <td>False</td>\n",
       "      <td>True</td>\n",
       "      <td>False</td>\n",
       "      <td>True</td>\n",
       "      <td>False</td>\n",
       "    </tr>\n",
       "    <tr>\n",
       "      <th>20240427759</th>\n",
       "      <td>False</td>\n",
       "      <td>True</td>\n",
       "      <td>False</td>\n",
       "      <td>True</td>\n",
       "      <td>False</td>\n",
       "    </tr>\n",
       "    <tr>\n",
       "      <th>20240425906</th>\n",
       "      <td>False</td>\n",
       "      <td>False</td>\n",
       "      <td>False</td>\n",
       "      <td>False</td>\n",
       "      <td>False</td>\n",
       "    </tr>\n",
       "    <tr>\n",
       "      <th>20240425533</th>\n",
       "      <td>True</td>\n",
       "      <td>False</td>\n",
       "      <td>False</td>\n",
       "      <td>False</td>\n",
       "      <td>True</td>\n",
       "    </tr>\n",
       "    <tr>\n",
       "      <th>20240414333</th>\n",
       "      <td>True</td>\n",
       "      <td>False</td>\n",
       "      <td>False</td>\n",
       "      <td>False</td>\n",
       "      <td>True</td>\n",
       "    </tr>\n",
       "    <tr>\n",
       "      <th>20240418097</th>\n",
       "      <td>False</td>\n",
       "      <td>False</td>\n",
       "      <td>False</td>\n",
       "      <td>False</td>\n",
       "      <td>False</td>\n",
       "    </tr>\n",
       "    <tr>\n",
       "      <th>20240415652</th>\n",
       "      <td>False</td>\n",
       "      <td>False</td>\n",
       "      <td>False</td>\n",
       "      <td>False</td>\n",
       "      <td>False</td>\n",
       "    </tr>\n",
       "  </tbody>\n",
       "</table>\n",
       "</div>"
      ],
      "text/plain": [
       "             교과서 키워드  콘텐츠 키워드  플랫폼 키워드  이러닝 키워드  AI 키워드\n",
       "공고번호                                                   \n",
       "20240432327     True    False    False    False    True\n",
       "20240421364    False    False    False    False   False\n",
       "20240427845    False    False    False    False   False\n",
       "20240427288    False     True    False     True   False\n",
       "20240427759    False     True    False     True   False\n",
       "20240425906    False    False    False    False   False\n",
       "20240425533     True    False    False    False    True\n",
       "20240414333     True    False    False    False    True\n",
       "20240418097    False    False    False    False   False\n",
       "20240415652    False    False    False    False   False"
      ]
     },
     "execution_count": 26,
     "metadata": {},
     "output_type": "execute_result"
    }
   ],
   "source": [
    "df[['교과서 키워드', '콘텐츠 키워드', '플랫폼 키워드', '이러닝 키워드', 'AI 키워드']].head(10)"
   ]
  },
  {
   "cell_type": "markdown",
   "metadata": {},
   "source": [
    "### df 테이블 저장"
   ]
  },
  {
   "cell_type": "markdown",
   "metadata": {},
   "source": [
    "## 4. 키워드 시각화"
   ]
  },
  {
   "cell_type": "code",
   "execution_count": 27,
   "metadata": {},
   "outputs": [],
   "source": [
    "df.to_csv(\"preprocessed.csv\")"
   ]
  },
  {
   "cell_type": "code",
   "execution_count": 28,
   "metadata": {},
   "outputs": [],
   "source": [
    "import matplotlib.pyplot as plt\n",
    "import seaborn as sns"
   ]
  },
  {
   "cell_type": "code",
   "execution_count": 29,
   "metadata": {},
   "outputs": [
    {
     "data": {
      "text/plain": [
       "['Solarize_Light2',\n",
       " '_classic_test_patch',\n",
       " '_mpl-gallery',\n",
       " '_mpl-gallery-nogrid',\n",
       " 'bmh',\n",
       " 'classic',\n",
       " 'dark_background',\n",
       " 'fast',\n",
       " 'fivethirtyeight',\n",
       " 'ggplot',\n",
       " 'grayscale',\n",
       " 'seaborn-v0_8',\n",
       " 'seaborn-v0_8-bright',\n",
       " 'seaborn-v0_8-colorblind',\n",
       " 'seaborn-v0_8-dark',\n",
       " 'seaborn-v0_8-dark-palette',\n",
       " 'seaborn-v0_8-darkgrid',\n",
       " 'seaborn-v0_8-deep',\n",
       " 'seaborn-v0_8-muted',\n",
       " 'seaborn-v0_8-notebook',\n",
       " 'seaborn-v0_8-paper',\n",
       " 'seaborn-v0_8-pastel',\n",
       " 'seaborn-v0_8-poster',\n",
       " 'seaborn-v0_8-talk',\n",
       " 'seaborn-v0_8-ticks',\n",
       " 'seaborn-v0_8-white',\n",
       " 'seaborn-v0_8-whitegrid',\n",
       " 'tableau-colorblind10']"
      ]
     },
     "execution_count": 29,
     "metadata": {},
     "output_type": "execute_result"
    }
   ],
   "source": [
    "plt.style.available "
   ]
  },
  {
   "cell_type": "code",
   "execution_count": 44,
   "metadata": {},
   "outputs": [],
   "source": [
    "plt.style.use( 'fivethirtyeight')"
   ]
  },
  {
   "cell_type": "code",
   "execution_count": 32,
   "metadata": {},
   "outputs": [
    {
     "data": {
      "text/plain": [
       "교과서 키워드    56\n",
       "콘텐츠 키워드    46\n",
       "플랫폼 키워드    27\n",
       "이러닝 키워드    10\n",
       "AI 키워드     36\n",
       "dtype: int64"
      ]
     },
     "execution_count": 32,
     "metadata": {},
     "output_type": "execute_result"
    }
   ],
   "source": [
    "df[['교과서 키워드', '콘텐츠 키워드', '플랫폼 키워드', '이러닝 키워드', 'AI 키워드']].sum()"
   ]
  },
  {
   "cell_type": "code",
   "execution_count": 33,
   "metadata": {},
   "outputs": [],
   "source": [
    "keywords_df = df[['교과서 키워드', '콘텐츠 키워드', '플랫폼 키워드', '이러닝 키워드', 'AI 키워드']].sum().sort_values(ascending = False)"
   ]
  },
  {
   "cell_type": "code",
   "execution_count": 34,
   "metadata": {},
   "outputs": [
    {
     "data": {
      "text/plain": [
       "교과서 키워드    56\n",
       "콘텐츠 키워드    46\n",
       "AI 키워드     36\n",
       "플랫폼 키워드    27\n",
       "이러닝 키워드    10\n",
       "dtype: int64"
      ]
     },
     "execution_count": 34,
     "metadata": {},
     "output_type": "execute_result"
    }
   ],
   "source": [
    "keywords_df"
   ]
  },
  {
   "cell_type": "code",
   "execution_count": 62,
   "metadata": {},
   "outputs": [
    {
     "data": {
      "image/png": "[encoded data removed]",
      "text/plain": [
       "<Figure size 1200x800 with 1 Axes>"
      ]
     },
     "metadata": {},
     "output_type": "display_data"
    }
   ],
   "source": [
    "plt.figure(figsize = (12, 8))\n",
    "\n",
    "colors = sns.color_palette('cool')\n",
    "bars = plt.bar(keywords_df.index , keywords_df, color = colors, width = 0.6)\n",
    "for bar in bars:\n",
    "    yval = bar.get_height()\n",
    "    plt.text(bar.get_x() + bar.get_width()/2, yval, round(yval, 2), \n",
    "             ha='center', va='bottom', fontsize = 15)\n",
    "\n",
    "plt.title(\"키워드 비교\", fontsize = 30)\n",
    "plt.xticks(fontsize=18)\n",
    "plt.savefig(\"keywords_edit.png\", format=\"png\")\n",
    "plt.show()"
   ]
  },
  {
   "cell_type": "markdown",
   "metadata": {
    "jp-MarkdownHeadingCollapsed": true
   },
   "source": [
    "# 2. 코스웨어 서비스 50개 데이터 분석 (2023.06)"
   ]
  },
  {
   "cell_type": "code",
   "execution_count": 6,
   "metadata": {},
   "outputs": [],
   "source": [
    "import pandas as pd\n",
    "\n",
    "data = pd.read_csv(\"courseware_data.csv\")"
   ]
  },
  {
   "cell_type": "code",
   "execution_count": 10,
   "metadata": {},
   "outputs": [
    {
     "data": {
      "text/html": [
       "<div>\n",
       "<style scoped>\n",
       "    .dataframe tbody tr th:only-of-type {\n",
       "        vertical-align: middle;\n",
       "    }\n",
       "\n",
       "    .dataframe tbody tr th {\n",
       "        vertical-align: top;\n",
       "    }\n",
       "\n",
       "    .dataframe thead th {\n",
       "        text-align: right;\n",
       "    }\n",
       "</style>\n",
       "<table border=\"1\" class=\"dataframe\">\n",
       "  <thead>\n",
       "    <tr style=\"text-align: right;\">\n",
       "      <th></th>\n",
       "      <th>연 번</th>\n",
       "      <th>기업명</th>\n",
       "      <th>서비스명</th>\n",
       "      <th>과목</th>\n",
       "      <th>적용학교급</th>\n",
       "      <th>핵심요소1</th>\n",
       "      <th>핵심요소2</th>\n",
       "      <th>핵심요소3</th>\n",
       "      <th>핵심요소3.1</th>\n",
       "      <th>가격</th>\n",
       "    </tr>\n",
       "  </thead>\n",
       "  <tbody>\n",
       "    <tr>\n",
       "      <th>0</th>\n",
       "      <td>1</td>\n",
       "      <td>(주)메이커스 테크놀로지</td>\n",
       "      <td>AI\\n 프로그래밍 교육 S/W</td>\n",
       "      <td>국어, 영어,\\n 수학, 사회, 과학, 정보/기술/실과, 예체능</td>\n",
       "      <td>초등학교, 중학교, 고등학교</td>\n",
       "      <td>x</td>\n",
       "      <td>o</td>\n",
       "      <td>x</td>\n",
       "      <td>x</td>\n",
       "      <td>200,000/1인당</td>\n",
       "    </tr>\n",
       "    <tr>\n",
       "      <th>1</th>\n",
       "      <td>2</td>\n",
       "      <td>(주)미네르바 에듀</td>\n",
       "      <td>교육용SW (꾸럼e)</td>\n",
       "      <td>국어, 영어,\\n 수학, 사회, 과학, 정보/기술/실과, 비교과(상담/ 진로/체험 등)</td>\n",
       "      <td>초등학교, 중학교, 고등학교, 대학교</td>\n",
       "      <td>x</td>\n",
       "      <td>x</td>\n",
       "      <td>x</td>\n",
       "      <td>o</td>\n",
       "      <td>프리미엄기준, 1년 100명 이용시 1인당 월 2,000원</td>\n",
       "    </tr>\n",
       "    <tr>\n",
       "      <th>2</th>\n",
       "      <td>3</td>\n",
       "      <td>(주)코더블</td>\n",
       "      <td>코짐 (CoGym)</td>\n",
       "      <td>정보/기술/실과</td>\n",
       "      <td>초등학교, 중학교, 고등학교, 대학교</td>\n",
       "      <td>o</td>\n",
       "      <td>o</td>\n",
       "      <td>o</td>\n",
       "      <td>o</td>\n",
       "      <td>베이직(6,600(월,\\n 인당)),\\n 프로(11,000(월,\\n 인당))</td>\n",
       "    </tr>\n",
       "  </tbody>\n",
       "</table>\n",
       "</div>"
      ],
      "text/plain": [
       "   연 번            기업명               서비스명  \\\n",
       "0    1  (주)메이커스 테크놀로지  AI\\n 프로그래밍 교육 S/W   \n",
       "1    2     (주)미네르바 에듀        교육용SW (꾸럼e)   \n",
       "2    3         (주)코더블         코짐 (CoGym)   \n",
       "\n",
       "                                                 과목                 적용학교급  \\\n",
       "0               국어, 영어,\\n 수학, 사회, 과학, 정보/기술/실과, 예체능       초등학교, 중학교, 고등학교   \n",
       "1  국어, 영어,\\n 수학, 사회, 과학, 정보/기술/실과, 비교과(상담/ 진로/체험 등)  초등학교, 중학교, 고등학교, 대학교   \n",
       "2                                          정보/기술/실과  초등학교, 중학교, 고등학교, 대학교   \n",
       "\n",
       "  핵심요소1 핵심요소2 핵심요소3 핵심요소3.1                                          가격  \n",
       "0     x     o     x       x                                 200,000/1인당  \n",
       "1     x     x     x       o            프리미엄기준, 1년 100명 이용시 1인당 월 2,000원  \n",
       "2     o     o     o       o  베이직(6,600(월,\\n 인당)),\\n 프로(11,000(월,\\n 인당))  "
      ]
     },
     "execution_count": 10,
     "metadata": {},
     "output_type": "execute_result"
    }
   ],
   "source": [
    "data.head(3)"
   ]
  },
  {
   "cell_type": "code",
   "execution_count": 14,
   "metadata": {},
   "outputs": [],
   "source": [
    "data.rename(columns = {\"핵심요소3.1\" : \"핵심요소4\"}, inplace = True)"
   ]
  },
  {
   "cell_type": "code",
   "execution_count": 15,
   "metadata": {},
   "outputs": [
    {
     "data": {
      "text/html": [
       "<div>\n",
       "<style scoped>\n",
       "    .dataframe tbody tr th:only-of-type {\n",
       "        vertical-align: middle;\n",
       "    }\n",
       "\n",
       "    .dataframe tbody tr th {\n",
       "        vertical-align: top;\n",
       "    }\n",
       "\n",
       "    .dataframe thead th {\n",
       "        text-align: right;\n",
       "    }\n",
       "</style>\n",
       "<table border=\"1\" class=\"dataframe\">\n",
       "  <thead>\n",
       "    <tr style=\"text-align: right;\">\n",
       "      <th></th>\n",
       "      <th>연 번</th>\n",
       "      <th>기업명</th>\n",
       "      <th>서비스명</th>\n",
       "      <th>과목</th>\n",
       "      <th>적용학교급</th>\n",
       "      <th>핵심요소1</th>\n",
       "      <th>핵심요소2</th>\n",
       "      <th>핵심요소3</th>\n",
       "      <th>핵심요소4</th>\n",
       "      <th>가격</th>\n",
       "    </tr>\n",
       "  </thead>\n",
       "  <tbody>\n",
       "    <tr>\n",
       "      <th>0</th>\n",
       "      <td>1</td>\n",
       "      <td>(주)메이커스 테크놀로지</td>\n",
       "      <td>AI\\n 프로그래밍 교육 S/W</td>\n",
       "      <td>국어, 영어,\\n 수학, 사회, 과학, 정보/기술/실과, 예체능</td>\n",
       "      <td>초등학교, 중학교, 고등학교</td>\n",
       "      <td>x</td>\n",
       "      <td>o</td>\n",
       "      <td>x</td>\n",
       "      <td>x</td>\n",
       "      <td>200,000/1인당</td>\n",
       "    </tr>\n",
       "    <tr>\n",
       "      <th>1</th>\n",
       "      <td>2</td>\n",
       "      <td>(주)미네르바 에듀</td>\n",
       "      <td>교육용SW (꾸럼e)</td>\n",
       "      <td>국어, 영어,\\n 수학, 사회, 과학, 정보/기술/실과, 비교과(상담/ 진로/체험 등)</td>\n",
       "      <td>초등학교, 중학교, 고등학교, 대학교</td>\n",
       "      <td>x</td>\n",
       "      <td>x</td>\n",
       "      <td>x</td>\n",
       "      <td>o</td>\n",
       "      <td>프리미엄기준, 1년 100명 이용시 1인당 월 2,000원</td>\n",
       "    </tr>\n",
       "    <tr>\n",
       "      <th>2</th>\n",
       "      <td>3</td>\n",
       "      <td>(주)코더블</td>\n",
       "      <td>코짐 (CoGym)</td>\n",
       "      <td>정보/기술/실과</td>\n",
       "      <td>초등학교, 중학교, 고등학교, 대학교</td>\n",
       "      <td>o</td>\n",
       "      <td>o</td>\n",
       "      <td>o</td>\n",
       "      <td>o</td>\n",
       "      <td>베이직(6,600(월,\\n 인당)),\\n 프로(11,000(월,\\n 인당))</td>\n",
       "    </tr>\n",
       "  </tbody>\n",
       "</table>\n",
       "</div>"
      ],
      "text/plain": [
       "   연 번            기업명               서비스명  \\\n",
       "0    1  (주)메이커스 테크놀로지  AI\\n 프로그래밍 교육 S/W   \n",
       "1    2     (주)미네르바 에듀        교육용SW (꾸럼e)   \n",
       "2    3         (주)코더블         코짐 (CoGym)   \n",
       "\n",
       "                                                 과목                 적용학교급  \\\n",
       "0               국어, 영어,\\n 수학, 사회, 과학, 정보/기술/실과, 예체능       초등학교, 중학교, 고등학교   \n",
       "1  국어, 영어,\\n 수학, 사회, 과학, 정보/기술/실과, 비교과(상담/ 진로/체험 등)  초등학교, 중학교, 고등학교, 대학교   \n",
       "2                                          정보/기술/실과  초등학교, 중학교, 고등학교, 대학교   \n",
       "\n",
       "  핵심요소1 핵심요소2 핵심요소3 핵심요소4                                          가격  \n",
       "0     x     o     x     x                                 200,000/1인당  \n",
       "1     x     x     x     o            프리미엄기준, 1년 100명 이용시 1인당 월 2,000원  \n",
       "2     o     o     o     o  베이직(6,600(월,\\n 인당)),\\n 프로(11,000(월,\\n 인당))  "
      ]
     },
     "execution_count": 15,
     "metadata": {},
     "output_type": "execute_result"
    }
   ],
   "source": [
    "data.head(3)"
   ]
  },
  {
   "cell_type": "code",
   "execution_count": 19,
   "metadata": {},
   "outputs": [],
   "source": [
    "data['핵심요소1'].replace(['o', 'x'], [True, False], inplace=True)"
   ]
  },
  {
   "cell_type": "code",
   "execution_count": 20,
   "metadata": {},
   "outputs": [
    {
     "data": {
      "text/html": [
       "<div>\n",
       "<style scoped>\n",
       "    .dataframe tbody tr th:only-of-type {\n",
       "        vertical-align: middle;\n",
       "    }\n",
       "\n",
       "    .dataframe tbody tr th {\n",
       "        vertical-align: top;\n",
       "    }\n",
       "\n",
       "    .dataframe thead th {\n",
       "        text-align: right;\n",
       "    }\n",
       "</style>\n",
       "<table border=\"1\" class=\"dataframe\">\n",
       "  <thead>\n",
       "    <tr style=\"text-align: right;\">\n",
       "      <th></th>\n",
       "      <th>연 번</th>\n",
       "      <th>기업명</th>\n",
       "      <th>서비스명</th>\n",
       "      <th>과목</th>\n",
       "      <th>적용학교급</th>\n",
       "      <th>핵심요소1</th>\n",
       "      <th>핵심요소2</th>\n",
       "      <th>핵심요소3</th>\n",
       "      <th>핵심요소4</th>\n",
       "      <th>가격</th>\n",
       "    </tr>\n",
       "  </thead>\n",
       "  <tbody>\n",
       "    <tr>\n",
       "      <th>0</th>\n",
       "      <td>1</td>\n",
       "      <td>(주)메이커스 테크놀로지</td>\n",
       "      <td>AI\\n 프로그래밍 교육 S/W</td>\n",
       "      <td>국어, 영어,\\n 수학, 사회, 과학, 정보/기술/실과, 예체능</td>\n",
       "      <td>초등학교, 중학교, 고등학교</td>\n",
       "      <td>False</td>\n",
       "      <td>o</td>\n",
       "      <td>x</td>\n",
       "      <td>x</td>\n",
       "      <td>200,000/1인당</td>\n",
       "    </tr>\n",
       "    <tr>\n",
       "      <th>1</th>\n",
       "      <td>2</td>\n",
       "      <td>(주)미네르바 에듀</td>\n",
       "      <td>교육용SW (꾸럼e)</td>\n",
       "      <td>국어, 영어,\\n 수학, 사회, 과학, 정보/기술/실과, 비교과(상담/ 진로/체험 등)</td>\n",
       "      <td>초등학교, 중학교, 고등학교, 대학교</td>\n",
       "      <td>False</td>\n",
       "      <td>x</td>\n",
       "      <td>x</td>\n",
       "      <td>o</td>\n",
       "      <td>프리미엄기준, 1년 100명 이용시 1인당 월 2,000원</td>\n",
       "    </tr>\n",
       "    <tr>\n",
       "      <th>2</th>\n",
       "      <td>3</td>\n",
       "      <td>(주)코더블</td>\n",
       "      <td>코짐 (CoGym)</td>\n",
       "      <td>정보/기술/실과</td>\n",
       "      <td>초등학교, 중학교, 고등학교, 대학교</td>\n",
       "      <td>True</td>\n",
       "      <td>o</td>\n",
       "      <td>o</td>\n",
       "      <td>o</td>\n",
       "      <td>베이직(6,600(월,\\n 인당)),\\n 프로(11,000(월,\\n 인당))</td>\n",
       "    </tr>\n",
       "  </tbody>\n",
       "</table>\n",
       "</div>"
      ],
      "text/plain": [
       "   연 번            기업명               서비스명  \\\n",
       "0    1  (주)메이커스 테크놀로지  AI\\n 프로그래밍 교육 S/W   \n",
       "1    2     (주)미네르바 에듀        교육용SW (꾸럼e)   \n",
       "2    3         (주)코더블         코짐 (CoGym)   \n",
       "\n",
       "                                                 과목                 적용학교급  \\\n",
       "0               국어, 영어,\\n 수학, 사회, 과학, 정보/기술/실과, 예체능       초등학교, 중학교, 고등학교   \n",
       "1  국어, 영어,\\n 수학, 사회, 과학, 정보/기술/실과, 비교과(상담/ 진로/체험 등)  초등학교, 중학교, 고등학교, 대학교   \n",
       "2                                          정보/기술/실과  초등학교, 중학교, 고등학교, 대학교   \n",
       "\n",
       "   핵심요소1 핵심요소2 핵심요소3 핵심요소4                                          가격  \n",
       "0  False     o     x     x                                 200,000/1인당  \n",
       "1  False     x     x     o            프리미엄기준, 1년 100명 이용시 1인당 월 2,000원  \n",
       "2   True     o     o     o  베이직(6,600(월,\\n 인당)),\\n 프로(11,000(월,\\n 인당))  "
      ]
     },
     "execution_count": 20,
     "metadata": {},
     "output_type": "execute_result"
    }
   ],
   "source": [
    "data.head(3)"
   ]
  },
  {
   "cell_type": "code",
   "execution_count": 21,
   "metadata": {},
   "outputs": [],
   "source": [
    "data['핵심요소2'].replace(['o', 'x'], [True, False], inplace=True)\n",
    "data['핵심요소3'].replace(['o', 'x'], [True, False], inplace=True)\n",
    "data['핵심요소4'].replace(['o', 'x'], [True, False], inplace=True)"
   ]
  },
  {
   "cell_type": "code",
   "execution_count": 22,
   "metadata": {},
   "outputs": [
    {
     "data": {
      "text/html": [
       "<div>\n",
       "<style scoped>\n",
       "    .dataframe tbody tr th:only-of-type {\n",
       "        vertical-align: middle;\n",
       "    }\n",
       "\n",
       "    .dataframe tbody tr th {\n",
       "        vertical-align: top;\n",
       "    }\n",
       "\n",
       "    .dataframe thead th {\n",
       "        text-align: right;\n",
       "    }\n",
       "</style>\n",
       "<table border=\"1\" class=\"dataframe\">\n",
       "  <thead>\n",
       "    <tr style=\"text-align: right;\">\n",
       "      <th></th>\n",
       "      <th>연 번</th>\n",
       "      <th>기업명</th>\n",
       "      <th>서비스명</th>\n",
       "      <th>과목</th>\n",
       "      <th>적용학교급</th>\n",
       "      <th>핵심요소1</th>\n",
       "      <th>핵심요소2</th>\n",
       "      <th>핵심요소3</th>\n",
       "      <th>핵심요소4</th>\n",
       "      <th>가격</th>\n",
       "    </tr>\n",
       "  </thead>\n",
       "  <tbody>\n",
       "    <tr>\n",
       "      <th>0</th>\n",
       "      <td>1</td>\n",
       "      <td>(주)메이커스 테크놀로지</td>\n",
       "      <td>AI\\n 프로그래밍 교육 S/W</td>\n",
       "      <td>국어, 영어,\\n 수학, 사회, 과학, 정보/기술/실과, 예체능</td>\n",
       "      <td>초등학교, 중학교, 고등학교</td>\n",
       "      <td>False</td>\n",
       "      <td>True</td>\n",
       "      <td>False</td>\n",
       "      <td>False</td>\n",
       "      <td>200,000/1인당</td>\n",
       "    </tr>\n",
       "    <tr>\n",
       "      <th>1</th>\n",
       "      <td>2</td>\n",
       "      <td>(주)미네르바 에듀</td>\n",
       "      <td>교육용SW (꾸럼e)</td>\n",
       "      <td>국어, 영어,\\n 수학, 사회, 과학, 정보/기술/실과, 비교과(상담/ 진로/체험 등)</td>\n",
       "      <td>초등학교, 중학교, 고등학교, 대학교</td>\n",
       "      <td>False</td>\n",
       "      <td>False</td>\n",
       "      <td>False</td>\n",
       "      <td>True</td>\n",
       "      <td>프리미엄기준, 1년 100명 이용시 1인당 월 2,000원</td>\n",
       "    </tr>\n",
       "    <tr>\n",
       "      <th>2</th>\n",
       "      <td>3</td>\n",
       "      <td>(주)코더블</td>\n",
       "      <td>코짐 (CoGym)</td>\n",
       "      <td>정보/기술/실과</td>\n",
       "      <td>초등학교, 중학교, 고등학교, 대학교</td>\n",
       "      <td>True</td>\n",
       "      <td>True</td>\n",
       "      <td>True</td>\n",
       "      <td>True</td>\n",
       "      <td>베이직(6,600(월,\\n 인당)),\\n 프로(11,000(월,\\n 인당))</td>\n",
       "    </tr>\n",
       "  </tbody>\n",
       "</table>\n",
       "</div>"
      ],
      "text/plain": [
       "   연 번            기업명               서비스명  \\\n",
       "0    1  (주)메이커스 테크놀로지  AI\\n 프로그래밍 교육 S/W   \n",
       "1    2     (주)미네르바 에듀        교육용SW (꾸럼e)   \n",
       "2    3         (주)코더블         코짐 (CoGym)   \n",
       "\n",
       "                                                 과목                 적용학교급  \\\n",
       "0               국어, 영어,\\n 수학, 사회, 과학, 정보/기술/실과, 예체능       초등학교, 중학교, 고등학교   \n",
       "1  국어, 영어,\\n 수학, 사회, 과학, 정보/기술/실과, 비교과(상담/ 진로/체험 등)  초등학교, 중학교, 고등학교, 대학교   \n",
       "2                                          정보/기술/실과  초등학교, 중학교, 고등학교, 대학교   \n",
       "\n",
       "   핵심요소1  핵심요소2  핵심요소3  핵심요소4                                          가격  \n",
       "0  False   True  False  False                                 200,000/1인당  \n",
       "1  False  False  False   True            프리미엄기준, 1년 100명 이용시 1인당 월 2,000원  \n",
       "2   True   True   True   True  베이직(6,600(월,\\n 인당)),\\n 프로(11,000(월,\\n 인당))  "
      ]
     },
     "execution_count": 22,
     "metadata": {},
     "output_type": "execute_result"
    }
   ],
   "source": [
    "data.head(3)"
   ]
  },
  {
   "cell_type": "code",
   "execution_count": 33,
   "metadata": {},
   "outputs": [
    {
     "data": {
      "text/plain": [
       "핵심요소1    44\n",
       "핵심요소4    39\n",
       "핵심요소2    37\n",
       "핵심요소3    37\n",
       "dtype: int64"
      ]
     },
     "execution_count": 33,
     "metadata": {},
     "output_type": "execute_result"
    }
   ],
   "source": [
    "points = data[['핵심요소1','핵심요소2','핵심요소3','핵심요소4']].sum().sort_values(ascending = False)\n",
    "points"
   ]
  },
  {
   "cell_type": "code",
   "execution_count": 35,
   "metadata": {},
   "outputs": [],
   "source": [
    "import matplotlib.pyplot as plt"
   ]
  },
  {
   "cell_type": "code",
   "execution_count": 48,
   "metadata": {},
   "outputs": [
    {
     "data": {
      "image/png": "[encoded data removed]",
      "text/plain": [
       "<Figure size 600x300 with 1 Axes>"
      ]
     },
     "metadata": {},
     "output_type": "display_data"
    }
   ],
   "source": [
    "plt.figure(figsize = (6, 3))\n",
    "plt.rcParams['font.family'] = 'AppleGothic'\n",
    "\n",
    "colors = sns.color_palette('cool')\n",
    "bars = plt.barh(y=points.index, width=points, color=colors)  # Using plt.barh() for horizontal bars\n",
    "for bar in bars:\n",
    "    xval = bar.get_width()  # Getting the width instead of height for horizontal bars\n",
    "    yval = bar.get_y() + bar.get_height() / 2  # Getting the y-coordinate at the center of the bar\n",
    "    plt.text(xval, yval, round(xval, 2), \n",
    "             ha='left', va='center', fontsize=15)\n",
    "\n",
    "plt.title(\"핵심요소 4가지\", fontsize=30, pad = 15)\n",
    "plt.xticks(fontsize=15)\n",
    "plt.yticks(fontsize=15)\n",
    "\n",
    "plt.show()"
   ]
  },
  {
   "cell_type": "code",
   "execution_count": 49,
   "metadata": {},
   "outputs": [
    {
     "data": {
      "text/plain": [
       "핵심요소1    44\n",
       "핵심요소4    39\n",
       "핵심요소2    37\n",
       "핵심요소3    37\n",
       "dtype: int64"
      ]
     },
     "execution_count": 49,
     "metadata": {},
     "output_type": "execute_result"
    }
   ],
   "source": [
    "points"
   ]
  },
  {
   "cell_type": "code",
   "execution_count": 59,
   "metadata": {},
   "outputs": [],
   "source": [
    "points.rename(index = {'핵심요소1' : '데이터분석기능', \n",
    "                       '핵심요소2':'AI 튜터기능', \n",
    "                       '핵심요소3':'학생용대시보드', \n",
    "                       '핵심요소4':'교사용대시보드'}, \n",
    "              inplace = True)"
   ]
  },
  {
   "cell_type": "code",
   "execution_count": 62,
   "metadata": {},
   "outputs": [
    {
     "data": {
      "text/plain": [
       "AI 튜터기능    37\n",
       "학생용대시보드    37\n",
       "교사용대시보드    39\n",
       "데이터분석기능    44\n",
       "dtype: int64"
      ]
     },
     "execution_count": 62,
     "metadata": {},
     "output_type": "execute_result"
    }
   ],
   "source": [
    "points.sort_values(inplace = True)\n",
    "\n",
    "points"
   ]
  },
  {
   "cell_type": "code",
   "execution_count": 74,
   "metadata": {},
   "outputs": [
    {
     "data": {
      "image/png": "[encoded data removed]",
      "text/plain": [
       "<Figure size 1500x500 with 1 Axes>"
      ]
     },
     "metadata": {},
     "output_type": "display_data"
    }
   ],
   "source": [
    "plt.style.use( 'fivethirtyeight')\n",
    "plt.figure(figsize = (15, 5))\n",
    "plt.rcParams['font.family'] = 'AppleGothic'\n",
    "\n",
    "colors = sns.color_palette('cool')\n",
    "bars = plt.barh(y=points.index, width=points, color=colors)  # Using plt.barh() for horizontal bars\n",
    "for bar in bars:\n",
    "    xval = bar.get_width()  # Getting the width instead of height for horizontal bars\n",
    "    yval = bar.get_y() + bar.get_height() / 2  # Getting the y-coordinate at the center of the bar\n",
    "    plt.text(xval, yval, round(xval, 2), \n",
    "             ha='left', va='center', fontsize=15)\n",
    "\n",
    "plt.title(\"핵심요소 4가지 (총 50프로그램)\", fontsize=30, pad = 15)\n",
    "plt.xticks(fontsize=15)\n",
    "plt.yticks(fontsize=15)\n",
    "plt.tight_layout()\n",
    "plt.savefig(\"4points.png\", format=\"png\")\n",
    "\n",
    "plt.show()"
   ]
  },
  {
   "cell_type": "markdown",
   "metadata": {},
   "source": [
    "# 3. 코스웨어 서비스 2024 144개 데이터 분석 (2024.04)"
   ]
  },
  {
   "cell_type": "code",
   "execution_count": null,
   "metadata": {},
   "outputs": [],
   "source": []
  }
 ],
 "metadata": {
  "colab": {
   "provenance": []
  },
  "kernelspec": {
   "display_name": "Python 3 (ipykernel)",
   "language": "python",
   "name": "python3"
  },
  "language_info": {
   "codemirror_mode": {
    "name": "ipython",
    "version": 3
   },
   "file_extension": ".py",
   "mimetype": "text/x-python",
   "name": "python",
   "nbconvert_exporter": "python",
   "pygments_lexer": "ipython3",
   "version": "3.11.7"
  }
 },
 "nbformat": 4,
 "nbformat_minor": 4
}
